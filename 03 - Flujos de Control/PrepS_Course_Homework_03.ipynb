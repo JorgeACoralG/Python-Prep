{
 "cells": [
  {
   "attachments": {},
   "cell_type": "markdown",
   "metadata": {},
   "source": [
    "Solucion Homework 03  "
   ]
  },
  {
   "cell_type": "code",
   "execution_count": null,
   "metadata": {},
   "outputs": [],
   "source": [
    "                        # 1) Crear una variable que contenga un elemento del conjunto de números enteros y luego imprimir por pantalla\n",
    "                        # si es mayor o menor a cero\n",
    "Hw03A = 0\n",
    "if    (Hw03A > 0):\n",
    "    print (Hw03A, ' es mayor que cero')\n",
    "elif  (Hw03A < 0):\n",
    "    print (Hw03A, ' es menor que cero')\n",
    "else:\n",
    "    print (Hw03A, ' es igual a cero')"
   ]
  },
  {
   "cell_type": "code",
   "execution_count": null,
   "metadata": {},
   "outputs": [],
   "source": [
    "                        # 2) Crear dos variables y un condicional que informe si son del mismo tipo de dato\n",
    "a = 1000\n",
    "b = '1'\n",
    "if (type(a) == type(b)):\n",
    "    print ('son del mismo tipo de dato')\n",
    "else:\n",
    "    print ('son de diferente tipo de dato')"
   ]
  },
  {
   "cell_type": "code",
   "execution_count": null,
   "metadata": {},
   "outputs": [],
   "source": [
    "                        # 3) Para los valores enteros del 1 al 20, imprimir por pantalla si es par o impar\n",
    "numero = 0\n",
    "for numero in range(1, 21):\n",
    "    if (numero % 2 == 0):\n",
    "        print ('El numero ', numero,' es par')\n",
    "    else: \n",
    "        print ('El numero ', numero,' es impar')"
   ]
  },
  {
   "cell_type": "code",
   "execution_count": null,
   "metadata": {},
   "outputs": [],
   "source": [
    "                        # 4) En un ciclo for mostrar para los valores entre 0 y 5 el resultado de elevarlo a la potencia igual a 3\n",
    "valor = 0\n",
    "for valor in range(0, 6):\n",
    "    print ('El valor ',valor, 'elevado en potencia 3 ', 'es :',valor**3)"
   ]
  },
  {
   "cell_type": "code",
   "execution_count": null,
   "metadata": {},
   "outputs": [],
   "source": [
    "                        # 5) Crear una variable que contenga un número entero y realizar un ciclo for la misma cantidad de ciclos\n",
    "Entero = 7\n",
    "for numero in range(0, Entero):\n",
    "    print ('El ciclo de este numero es', numero)"
   ]
  },
  {
   "cell_type": "code",
   "execution_count": null,
   "metadata": {},
   "outputs": [],
   "source": [
    "                        # 6) Utilizar un ciclo while para realizar el factorial de un número guardado en una variable,\n",
    "                        # sólo si la variable contiene un número entero mayor a 0\n",
    "a = 6\n",
    "num = 1\n",
    "ini = a\n",
    "fact = num\n",
    "while (num < a):\n",
    "    num += 1\n",
    "    fact *= num\n",
    "    print('El valor factorial de ',ini, 'es', fact)"
   ]
  },
  {
   "cell_type": "code",
   "execution_count": null,
   "metadata": {},
   "outputs": [],
   "source": [
    "                        # 7) Crear un ciclo for dentro de un ciclo while\n",
    "n = 3\n",
    "while (n < 10):\n",
    "    n += 1\n",
    "    print ('El ciclo while i tiene como numero ', n)\n",
    "    for i in range (1, n):\n",
    "        print ('El ciclo for n tiene como numero', i)"
   ]
  },
  {
   "cell_type": "code",
   "execution_count": null,
   "metadata": {},
   "outputs": [],
   "source": [
    "                        # 8) Crear un ciclo while dentro de un ciclo for\n",
    "n = 10\n",
    "for i in range (1, n):\n",
    "    print ('El ciclo for tiene como numero', i)\n",
    "    while (n > 5):\n",
    "        n -= 1\n",
    "        print ('El ciclo while tiene como numero ', n)"
   ]
  },
  {
   "cell_type": "code",
   "execution_count": null,
   "metadata": {},
   "outputs": [],
   "source": [
    "                        # 9) Imprimir los números primos existentes entre 0 y 30\n",
    "for cifra in range(2, 30):\n",
    "    primo = True\n",
    "    for div in range(2, cifra):\n",
    "        if (cifra % div == 0):\n",
    "            primo = False\n",
    "        if primo:\n",
    "            print (cifra, 'es Primo')                "
   ]
  },
  {
   "cell_type": "code",
   "execution_count": null,
   "metadata": {},
   "outputs": [],
   "source": [
    "                        # 10) ¿Se puede mejorar el proceso del punto 9? Utilizar las sentencias break y/ó continue para tal fin\n",
    "for cifra in range(2, 30):\n",
    "    primo = True\n",
    "    for div in range(2, cifra):\n",
    "        if (cifra % div == 0):\n",
    "            primo = False\n",
    "            break\n",
    "        if primo:\n",
    "            print (cifra, 'es Primo')"
   ]
  },
  {
   "cell_type": "code",
   "execution_count": null,
   "metadata": {},
   "outputs": [],
   "source": [
    "                        # 11) En los puntos 9 y 10, se diseño un código que encuentra números primos y además se lo optimizó.\n",
    "                        # ¿Es posible saber en qué medida se optimizó?\n",
    "                        # Paso 1\n",
    "ciclos_sin_break = 0\n",
    "for cifra in range(2, 30):\n",
    "    primo = True\n",
    "    for div in range(2, cifra):\n",
    "        ciclos_sin_break += 1\n",
    "        if (cifra % div == 0):\n",
    "            primo = False\n",
    "        if primo:\n",
    "            print ('cantidad de ciclos ', ciclos_sin_break)"
   ]
  },
  {
   "cell_type": "code",
   "execution_count": null,
   "metadata": {},
   "outputs": [],
   "source": [
    "                        # Punto 11) Paso 2\n",
    "ciclos_con_break = 0\n",
    "for cifra in range(2, 30):\n",
    "    primo = True\n",
    "    for div in range(2, cifra):\n",
    "        ciclos_con_break += 1\n",
    "        if (cifra % div == 0):\n",
    "            primo = False\n",
    "            break\n",
    "        if primo:\n",
    "            print ('cantidad de ciclos ', ciclos_con_break)\n",
    "            print((ciclos_con_break/ciclos_sin_break)*100)"
   ]
  },
  {
   "cell_type": "code",
   "execution_count": null,
   "metadata": {},
   "outputs": [],
   "source": [
    "                        # 12) Si la cantidad de números que se evalúa es mayor a treinta, esa optimización crece?\n",
    "                        # Paso 1\n",
    "tope_rango = 100\n",
    "ciclos_sin_break = 0\n",
    "for cifra in range(2, tope_rango):\n",
    "    primo = True\n",
    "    for div in range(2, cifra):\n",
    "        ciclos_sin_break += 1\n",
    "        if (cifra % div == 0):\n",
    "            primo = False\n",
    "        if primo:\n",
    "            print ('cantidad de ciclos ', ciclos_sin_break)"
   ]
  },
  {
   "cell_type": "code",
   "execution_count": null,
   "metadata": {},
   "outputs": [],
   "source": [
    "                        # Punto 12) Paso 2\n",
    "tope_rango = 100\n",
    "ciclos_con_break = 0\n",
    "for cifra in range(2, tope_rango):\n",
    "    primo = True\n",
    "    for div in range(2, cifra):\n",
    "        ciclos_con_break += 1\n",
    "        if (cifra % div == 0):\n",
    "            primo = False\n",
    "            break\n",
    "        if primo:\n",
    "            print ('cantidad de ciclos ', ciclos_con_break)\n",
    "            print(str(round(ciclos_con_break/ciclos_sin_break,2)*100) + '%')\n",
    "\n",
    "                        # No, la optimizacion es menor."
   ]
  },
  {
   "cell_type": "code",
   "execution_count": null,
   "metadata": {},
   "outputs": [],
   "source": [
    "                        # 13) Aplicando continue, armar un ciclo while que solo imprima los valores divisibles por 12,\n",
    "                        # dentro del rango de números de 100 a 300\n",
    "n = 99\n",
    "while (n <= 300):\n",
    "    n += 1\n",
    "    if(n % 12 != 0):\n",
    "        continue\n",
    "    print(n, 'es divisible entre 12')"
   ]
  },
  {
   "cell_type": "code",
   "execution_count": null,
   "metadata": {},
   "outputs": [],
   "source": [
    "                        # 14) Utilizar la función **input()** que permite hacer ingresos por teclado, para encontrar números primos y dar\n",
    "                        # la opción al usuario de buscar el siguiente\n",
    "n = 1\n",
    "sigue = 1\n",
    "primo = True\n",
    "while (sigue == 1):\n",
    "    for div in range(2, n):\n",
    "        if (n % div == 0):\n",
    "            primo = False\n",
    "            break\n",
    "        if (primo):\n",
    "            print ('¿desea encontrar el siguiente numero primo?')\n",
    "            if (input() != '1'):\n",
    "                print ('se finaliza el proceso')\n",
    "                break\n",
    "        else:\n",
    "            primo = True\n",
    "        n += 1          "
   ]
  },
  {
   "cell_type": "code",
   "execution_count": 64,
   "metadata": {},
   "outputs": [
    {
     "name": "stdout",
     "output_type": "stream",
     "text": [
      "102 es multiplo de 6 y es divisible entre 3\n"
     ]
    }
   ],
   "source": [
    "                        # 15) Crear un ciclo while que encuentre dentro del rango de 100 a 300 el primer número divisible por 3 y\n",
    "                        # además múltiplo de 6\n",
    "n = 100\n",
    "while (n <= 300):\n",
    "    if (n % 6 == 0):\n",
    "        print(n, 'es multiplo de 6 y es divisible entre 3')\n",
    "        break\n",
    "    n += 1"
   ]
  }
 ],
 "metadata": {
  "kernelspec": {
   "display_name": "Python 3",
   "language": "python",
   "name": "python3"
  },
  "language_info": {
   "codemirror_mode": {
    "name": "ipython",
    "version": 3
   },
   "file_extension": ".py",
   "mimetype": "text/x-python",
   "name": "python",
   "nbconvert_exporter": "python",
   "pygments_lexer": "ipython3",
   "version": "3.11.1 (tags/v3.11.1:a7a450f, Dec  6 2022, 19:58:39) [MSC v.1934 64 bit (AMD64)]"
  },
  "orig_nbformat": 4,
  "vscode": {
   "interpreter": {
    "hash": "9da6cc33780894ff2185a164a2a119d335f9d52f75fdaf747e4ff3d3ca36c7c1"
   }
  }
 },
 "nbformat": 4,
 "nbformat_minor": 2
}
