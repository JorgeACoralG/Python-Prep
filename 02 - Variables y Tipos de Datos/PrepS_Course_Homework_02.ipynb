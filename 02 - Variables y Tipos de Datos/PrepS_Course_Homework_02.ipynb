{
 "cells": [
  {
   "attachments": {},
   "cell_type": "markdown",
   "metadata": {},
   "source": [
    "Solucion Homework 02"
   ]
  },
  {
   "cell_type": "code",
   "execution_count": 44,
   "metadata": {},
   "outputs": [
    {
     "name": "stdout",
     "output_type": "stream",
     "text": [
      "55\n"
     ]
    }
   ],
   "source": [
    "                        # 1) Crear una variable que contenga un elemento del conjunto de números enteros y luego imprimir por pantalla\n",
    "jor = 55\n",
    "print(jor)"
   ]
  },
  {
   "cell_type": "code",
   "execution_count": 45,
   "metadata": {},
   "outputs": [
    {
     "data": {
      "text/plain": [
       "float"
      ]
     },
     "execution_count": 45,
     "metadata": {},
     "output_type": "execute_result"
    }
   ],
   "source": [
    "                        # 2) Imprimir el tipo de dato de la constante 8.5\n",
    "jor_1 = 8.5\n",
    "type(jor_1)"
   ]
  },
  {
   "cell_type": "code",
   "execution_count": 46,
   "metadata": {},
   "outputs": [
    {
     "data": {
      "text/plain": [
       "int"
      ]
     },
     "execution_count": 46,
     "metadata": {},
     "output_type": "execute_result"
    }
   ],
   "source": [
    "                        # 3) Imprimir el tipo de dato de la variable creada en el punto 1\n",
    "type(jor)"
   ]
  },
  {
   "cell_type": "code",
   "execution_count": 47,
   "metadata": {},
   "outputs": [],
   "source": [
    "                        # 4) Crear una variable que contenga tu nombre\n",
    "miNombre = 'Jorge'"
   ]
  },
  {
   "cell_type": "code",
   "execution_count": 48,
   "metadata": {},
   "outputs": [],
   "source": [
    "                        # 5) Crear una variable que contenga un número complejo\n",
    "numComplejo = 5 + 5j"
   ]
  },
  {
   "cell_type": "code",
   "execution_count": 49,
   "metadata": {},
   "outputs": [
    {
     "data": {
      "text/plain": [
       "complex"
      ]
     },
     "execution_count": 49,
     "metadata": {},
     "output_type": "execute_result"
    }
   ],
   "source": [
    "                        # 6) Mostrar el tipo de dato de la variable creada en el punto 5\n",
    "type(numComplejo)"
   ]
  },
  {
   "cell_type": "code",
   "execution_count": 50,
   "metadata": {},
   "outputs": [
    {
     "name": "stdout",
     "output_type": "stream",
     "text": [
      "3.1417\n"
     ]
    }
   ],
   "source": [
    "                        # 7) Crear una variable que contenga el valor del número Pi redondeado a 4 decimales\n",
    "numeroPi = 3.1416921231546\n",
    "print(round(numeroPi, 4))\n"
   ]
  },
  {
   "cell_type": "code",
   "execution_count": 51,
   "metadata": {},
   "outputs": [],
   "source": [
    "                        # 8) Crear una variable que contenga el valor 'True' y otra que contenga el valor True. ¿Se trata de lo mismo?\n",
    "verdaderoString = 'True'\n",
    "verdaderoBooleano = True"
   ]
  },
  {
   "cell_type": "code",
   "execution_count": 52,
   "metadata": {},
   "outputs": [
    {
     "name": "stdout",
     "output_type": "stream",
     "text": [
      "la variable verdaderoString es de tipo  <class 'str'> y la variable verdaderoBoolenao es de tipo  <class 'bool'>\n"
     ]
    }
   ],
   "source": [
    "                        # 9) Imprimir el tipo de dato correspondientes a las variables creadas en el punto 9\n",
    "print('la variable verdaderoString es de tipo ', type(verdaderoString), 'y la variable verdaderoBoolenao es de tipo ', type(verdaderoBooleano))"
   ]
  },
  {
   "cell_type": "code",
   "execution_count": 53,
   "metadata": {},
   "outputs": [
    {
     "name": "stdout",
     "output_type": "stream",
     "text": [
      "30.5\n"
     ]
    }
   ],
   "source": [
    "                        # 10) Asignar a una variable, la suma de un número entero y otro decimal\n",
    "entero = 23\n",
    "decimal = 7.5\n",
    "enteroMasDecimal = entero + decimal\n",
    "print (enteroMasDecimal)"
   ]
  },
  {
   "cell_type": "code",
   "execution_count": 54,
   "metadata": {},
   "outputs": [
    {
     "name": "stdout",
     "output_type": "stream",
     "text": [
      "(8+27j)\n"
     ]
    }
   ],
   "source": [
    "                        # 11) Realizar una operación de suma de números complejos\n",
    "sumaNumerosComplejos = (5 +12j) + (3 + 15j)\n",
    "print(sumaNumerosComplejos)\n"
   ]
  },
  {
   "cell_type": "code",
   "execution_count": 55,
   "metadata": {},
   "outputs": [],
   "source": [
    "                        # 12) Realizar una operación de suma de un número real y otro complejo\n",
    "sumaNumeroRealMasComplejo = 21 + (21 + 21j)"
   ]
  },
  {
   "cell_type": "code",
   "execution_count": 56,
   "metadata": {},
   "outputs": [
    {
     "name": "stdout",
     "output_type": "stream",
     "text": [
      "200\n"
     ]
    }
   ],
   "source": [
    "                        # 13) Realizar una operación de multiplicación\n",
    "lado_a = 10\n",
    "lado_b = 20\n",
    "area = lado_a * lado_b\n",
    "print(area)"
   ]
  },
  {
   "cell_type": "code",
   "execution_count": 57,
   "metadata": {},
   "outputs": [
    {
     "name": "stdout",
     "output_type": "stream",
     "text": [
      "256\n"
     ]
    }
   ],
   "source": [
    "                        # 14) Mostrar el resultado de elevar 2 a la octava potencia\n",
    "dos = 2\n",
    "potencia = 8\n",
    "dosALaOctava = 2**8\n",
    "print(dosALaOctava)"
   ]
  },
  {
   "cell_type": "code",
   "execution_count": 58,
   "metadata": {},
   "outputs": [
    {
     "name": "stdout",
     "output_type": "stream",
     "text": [
      "6.75\n"
     ]
    }
   ],
   "source": [
    "                        # 15) Obtener el cociente de la división de 27 entre 4 en una variable y luego mostrarla\n",
    "divisor = 4\n",
    "dividendo = 27\n",
    "division = dividendo / divisor\n",
    "print (division)"
   ]
  },
  {
   "cell_type": "code",
   "execution_count": 59,
   "metadata": {},
   "outputs": [
    {
     "name": "stdout",
     "output_type": "stream",
     "text": [
      "6\n"
     ]
    }
   ],
   "source": [
    "                        # 16) De la división anterior solamente mostrar la parte entera\n",
    "parteEntera = dividendo//divisor\n",
    "print(parteEntera)"
   ]
  },
  {
   "cell_type": "code",
   "execution_count": 60,
   "metadata": {},
   "outputs": [
    {
     "name": "stdout",
     "output_type": "stream",
     "text": [
      "3\n"
     ]
    }
   ],
   "source": [
    "                        # 17) De la división de 27 entre 4 mostrar solamente el resto\n",
    "parteResto = dividendo%divisor\n",
    "print(parteResto)"
   ]
  },
  {
   "cell_type": "code",
   "execution_count": 61,
   "metadata": {},
   "outputs": [
    {
     "name": "stdout",
     "output_type": "stream",
     "text": [
      "27\n"
     ]
    }
   ],
   "source": [
    "                        # 18) Utilizando como operandos el número 4 y los resultados obtenidos en los puntos 16 y 17. Obtener 27 como resultado\n",
    "obtener_27 = parteEntera * 4 + parteResto\n",
    "print (obtener_27)"
   ]
  },
  {
   "cell_type": "code",
   "execution_count": 62,
   "metadata": {},
   "outputs": [
    {
     "name": "stdout",
     "output_type": "stream",
     "text": [
      "tropical100 y cumbia150\n"
     ]
    }
   ],
   "source": [
    "                        # 19) Utilizar el operador \"+\" en una operación donde intervengan solo variables alfanuméricas\n",
    "aicardi = 'tropical100 y '\n",
    "meza = 'cumbia150'\n",
    "musica = aicardi + meza\n",
    "print(musica)"
   ]
  },
  {
   "cell_type": "code",
   "execution_count": 63,
   "metadata": {},
   "outputs": [
    {
     "data": {
      "text/plain": [
       "False"
      ]
     },
     "execution_count": 63,
     "metadata": {},
     "output_type": "execute_result"
    }
   ],
   "source": [
    "                        # 20) Evaluar si \"2\" es igual a 2. ¿Por qué ocurre eso?\n",
    "numeroStringer = '2'\n",
    "numeroEntero = 2\n",
    "numeroStringer == numeroEntero # Es falso porque son diferente tipo de dato"
   ]
  },
  {
   "cell_type": "code",
   "execution_count": 64,
   "metadata": {},
   "outputs": [
    {
     "name": "stdout",
     "output_type": "stream",
     "text": [
      "2\n"
     ]
    },
    {
     "data": {
      "text/plain": [
       "4"
      ]
     },
     "execution_count": 64,
     "metadata": {},
     "output_type": "execute_result"
    }
   ],
   "source": [
    "                        # 21) Utilizar las funciones de cambio de tipo de dato, para que la validación del punto 20 resulte verdadera\n",
    "int(numeroStringer)\n",
    "print(numeroStringer)\n",
    "numeroStringer == numeroEntero\n",
    "int(numeroStringer) + 2"
   ]
  },
  {
   "cell_type": "code",
   "execution_count": 65,
   "metadata": {},
   "outputs": [
    {
     "data": {
      "text/plain": [
       "4"
      ]
     },
     "execution_count": 65,
     "metadata": {},
     "output_type": "execute_result"
    }
   ],
   "source": [
    "                        # 22) ¿Por qué arroja error el siguiente cambio de tipo de datos? a = float('3,8')\n",
    "a = float ('3.8')\n",
    "                        # Debido a que float debe ser con punto\n",
    "1 << 2"
   ]
  },
  {
   "cell_type": "code",
   "execution_count": 66,
   "metadata": {},
   "outputs": [
    {
     "name": "stdout",
     "output_type": "stream",
     "text": [
      "2\n"
     ]
    }
   ],
   "source": [
    "                        # 23) Crear una variable con el valor 3, y utilizar el operador '-=' para modificar su contenido\n",
    "añadirUno = 3\n",
    "añadirUno -= 1\n",
    "print (añadirUno)"
   ]
  },
  {
   "cell_type": "code",
   "execution_count": 67,
   "metadata": {},
   "outputs": [
    {
     "data": {
      "text/plain": [
       "4"
      ]
     },
     "execution_count": 67,
     "metadata": {},
     "output_type": "execute_result"
    }
   ],
   "source": [
    "                        # 24) Realizar la operacion 1 << 2 ¿Por qué da ese resultado? ¿Qué es el sistema de numeración binario?\n",
    "1 << 2\n",
    "                        # Significa correr el 1 dos posiciones hacia la izquierda.\n",
    "                        # Es un sistema que usa solo dos digitos, el 0 y el 1"
   ]
  },
  {
   "cell_type": "code",
   "execution_count": 68,
   "metadata": {},
   "outputs": [],
   "source": [
    "                        # 25) Realizar la operación 2 + '2' ¿Por qué no está permitido? ¿Si los dos operandos serían del mismo tipo,\n",
    "                        # siempre arrojaría el mismo resultado?\n",
    "# porque son de diferente tipo de dato, Interger y String\n",
    "# si los operandos son del mismo tipo, en caso de Strings, concatena, en caso de Interger, realiza la suma."
   ]
  },
  {
   "cell_type": "code",
   "execution_count": 71,
   "metadata": {},
   "outputs": [
    {
     "name": "stdout",
     "output_type": "stream",
     "text": [
      "110\n"
     ]
    },
    {
     "data": {
      "text/plain": [
       "'272727272727'"
      ]
     },
     "execution_count": 71,
     "metadata": {},
     "output_type": "execute_result"
    }
   ],
   "source": [
    "                        # 26) Realizar una operación válida entre valores de tipo entero y string\n",
    "tipoEntero = 10\n",
    "tipoString = '100'\n",
    "resultado26 = tipoEntero + int(tipoString)\n",
    "print (resultado26)\n",
    "6 * '27'                # Multiplica el String por la cantidad de veces del operando."
   ]
  }
 ],
 "metadata": {
  "kernelspec": {
   "display_name": "Python 3",
   "language": "python",
   "name": "python3"
  },
  "language_info": {
   "codemirror_mode": {
    "name": "ipython",
    "version": 3
   },
   "file_extension": ".py",
   "mimetype": "text/x-python",
   "name": "python",
   "nbconvert_exporter": "python",
   "pygments_lexer": "ipython3",
   "version": "3.11.1 (tags/v3.11.1:a7a450f, Dec  6 2022, 19:58:39) [MSC v.1934 64 bit (AMD64)]"
  },
  "orig_nbformat": 4,
  "vscode": {
   "interpreter": {
    "hash": "9da6cc33780894ff2185a164a2a119d335f9d52f75fdaf747e4ff3d3ca36c7c1"
   }
  }
 },
 "nbformat": 4,
 "nbformat_minor": 2
}
