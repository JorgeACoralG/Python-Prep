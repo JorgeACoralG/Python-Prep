{
 "cells": [
  {
   "cell_type": "code",
   "execution_count": 31,
   "metadata": {},
   "outputs": [
    {
     "name": "stdout",
     "output_type": "stream",
     "text": [
      "[-15, -14, -13, -12, -11, -10, -9, -8, -7, -6, -5, -4, -3, -2, -1]\n"
     ]
    }
   ],
   "source": [
    "                        # 1) A partir de una lista vacía, utilizar un ciclo while para cargar allí números negativos del -15 al -1\n",
    "Negativos = []\n",
    "numero = -15\n",
    "while (numero < 0):\n",
    "    Negativos.append(numero)\n",
    "    numero += 1\n",
    "print(Negativos)"
   ]
  },
  {
   "cell_type": "code",
   "execution_count": null,
   "metadata": {},
   "outputs": [],
   "source": [
    "                        # 2) ¿Con un ciclo while sería posible recorrer la lista para imprimir sólo los números pares?\n",
    "Pares = []\n",
    "num = -15\n",
    "while (num < 0):\n",
    "    if (num % 2 == 0):\n",
    "        print(num)\n",
    "    num += 1"
   ]
  },
  {
   "cell_type": "code",
   "execution_count": null,
   "metadata": {},
   "outputs": [],
   "source": [
    "                        # 2) ¿Con un ciclo while sería posible recorrer la lista para imprimir sólo los números pares?\n",
    "                        # Resuelto\n",
    "num = 0\n",
    "while (num < len(Negativos)):\n",
    "    if (Negativos[num] % 2 == 0):\n",
    "        print(Negativos[num])\n",
    "    num += 1"
   ]
  },
  {
   "cell_type": "code",
   "execution_count": null,
   "metadata": {},
   "outputs": [],
   "source": [
    "                        # 3) Resolver el punto anterior sin utilizar un ciclo while\n",
    "for number in Negativos:\n",
    "    if (number % 2 == 0):\n",
    "        print (number)        "
   ]
  },
  {
   "cell_type": "code",
   "execution_count": null,
   "metadata": {},
   "outputs": [],
   "source": [
    "                        # 4) Utilizar el iterable para recorrer sólo los primeros 3 elementos\n",
    "for number in Negativos[:3]:\n",
    "    print(number)"
   ]
  },
  {
   "cell_type": "code",
   "execution_count": null,
   "metadata": {},
   "outputs": [],
   "source": [
    "                        # 5) Utilizar la función **enumerate** para obtener dentro del iterable, tambien el índice al que corresponde el\n",
    "                        # elemento\n",
    "for indice, valor in enumerate(Negativos):\n",
    "    print(indice, valor)"
   ]
  },
  {
   "cell_type": "code",
   "execution_count": 5,
   "metadata": {},
   "outputs": [
    {
     "name": "stdout",
     "output_type": "stream",
     "text": [
      "[1, 2, 3, 4, 5, 6, 7, 8, 9, 10, 11, 12, 13, 14, 15, 16, 17, 20]\n"
     ]
    }
   ],
   "source": [
    "                        # 6) Dada la siguiente lista de números enteros entre 1 y 20, crear un ciclo donde se completen los valores\n",
    "                        # faltantes: lista = [1,2,5,7,8,10,13,14,15,17,20]\n",
    "lista = [1,2,5,7,8,10,13,14,15,17,20]\n",
    "n = 1\n",
    "while (n < len(lista)):\n",
    "    if (not(n in lista)):\n",
    "       lista.insert((n-1), n)\n",
    "    n += 1\n",
    "print(lista) "
   ]
  },
  {
   "cell_type": "code",
   "execution_count": null,
   "metadata": {},
   "outputs": [],
   "source": [
    "                        # 7) La sucesión de Fibonacci es un listado de números que sigue la fórmula: <br>\n",
    "                        # n<sub>0</sub> = 0<br>\n",
    "                        # n<sub>1</sub> = 1<br>\n",
    "                        # n<sub>i</sub> = n<sub>i-1</sub> + n<sub>i-2</sub><br>\n",
    "                        # Crear una lista con los primeros treinta números de la sucesión.<br>\n",
    "fibo = [0, 1]\n",
    "n = 2\n",
    "while (n < 30):\n",
    "    fibo.append(fibo [ n - 1 ] + fibo [ n - 2])\n",
    "    n += 1\n",
    "print(fibo)"
   ]
  },
  {
   "cell_type": "code",
   "execution_count": 81,
   "metadata": {},
   "outputs": [
    {
     "data": {
      "text/plain": [
       "1346268"
      ]
     },
     "execution_count": 81,
     "metadata": {},
     "output_type": "execute_result"
    }
   ],
   "source": [
    "                        # 8) Realizar la suma de todos elementos de la lista del punto anterior\n",
    "sum(fibo)    "
   ]
  },
  {
   "cell_type": "code",
   "execution_count": 85,
   "metadata": {},
   "outputs": [
    {
     "name": "stdout",
     "output_type": "stream",
     "text": [
      "1346268\n"
     ]
    }
   ],
   "source": [
    "                        # 8) Realizar la suma de todos elementos de la lista del punto anterior\n",
    "acum = 0\n",
    "for numero in fibo:\n",
    "    acum += numero\n",
    "print(acum)"
   ]
  },
  {
   "cell_type": "code",
   "execution_count": null,
   "metadata": {},
   "outputs": [],
   "source": [
    "                        # 9) La proporción aurea se expresa con una proporción matemática que nace el número irracional Phi= 1,618… que los\n",
    "                        # griegos llamaron número áureo. El cuál se puede aproximar con la sucesión de Fibonacci. Con la lista del ejercicio\n",
    "                        # anterior, imprimir el cociente de los últimos 5 pares de dos números contiguos:<br>\n",
    "                        # Donde i es la cantidad total de elementos<br>\n",
    "                        # n<sub>i-1</sub> / n<sub>i</sub><br>\n",
    "                        # n<sub>i-2</sub> / n<sub>i-1</sub><br>\n",
    "                        # n<sub>i-3</sub> / n<sub>i-2</sub><br>\n",
    "                        # n<sub>i-4</sub> / n<sub>i-3</sub><br>\n",
    "                        # n<sub>i-5</sub> / n<sub>i-4</sub><br>\n",
    "pares = 15\n",
    "n = pares - 5\n",
    "while (n < pares):\n",
    "    print(fibo[n] / fibo [n-1])\n",
    "    n += 1"
   ]
  },
  {
   "cell_type": "code",
   "execution_count": null,
   "metadata": {},
   "outputs": [],
   "source": [
    "                        # 10) A partir de la variable cadena ya dada, mostrar en qué posiciones aparece la letra \"n\"<br>\n",
    "                        # cadena = 'Hola Mundo. Esto es una practica del lenguaje de programación Python'\n",
    "cadena = 'Hola Mundo. Esto es una practica del lenguaje de programación Python'\n",
    "\n",
    "for i, e in enumerate(cadena):\n",
    "    if e == 'n':\n",
    "        print (i, e)\n",
    "\n",
    "cadena [67], cadena [39], cadena [0]"
   ]
  },
  {
   "cell_type": "code",
   "execution_count": null,
   "metadata": {},
   "outputs": [],
   "source": [
    "                        # 11) Crear un diccionario e imprimir sus claves utilizando un iterador\n",
    "Diccionario = {'Ciudades'   :['Cali', 'Buenos Aires', 'Brasilia', 'Caracas', 'Quito', 'Lima', 'Ciudad de Mexico', 'Madrid', 'Hamburgo', 'Paris'], \n",
    "                    'Pais' : ['Colombia', 'Argentina', 'Brasil', 'Venezuela', 'Ecuador', 'Peru', 'Mexico', 'Colombia', 'España', 'Alemania', 'Francia'],\n",
    "            'Continente' : ['America', 'America', 'America', 'America', 'America', 'America', 'America', 'America', 'Europa', 'Europa', 'Europa']\n",
    "}\n",
    "\n",
    "print(list(Diccionario.keys()))\n",
    "\n",
    "for clave in Diccionario:\n",
    "    print(clave)"
   ]
  },
  {
   "cell_type": "code",
   "execution_count": null,
   "metadata": {},
   "outputs": [],
   "source": [
    "                        # 12) Convertir en una lista la variable \"cadena\" del punto 10 y luego recorrerla con un iterador\n",
    "cadena\n",
    "print(type(cadena))\n",
    "cadena = list(cadena)\n",
    "print(type(cadena))\n",
    "print(list(cadena))\n",
    "\n",
    "recorrer = iter(cadena)\n",
    "largo = len(cadena)\n",
    "for item in range(0, largo):\n",
    "    print(next(recorrer))"
   ]
  },
  {
   "cell_type": "code",
   "execution_count": null,
   "metadata": {},
   "outputs": [],
   "source": [
    "                        # 13) Crear dos listas y unirlas en una tupla utilizando la función zip\n",
    "Esposos = ['Jorge', 'Rodrigo', 'Alex']\n",
    "Esposas = ['Martha', 'Gladys', 'Claudia']\n",
    "\n",
    "Casados = zip(Esposos, Esposas)\n",
    "print (list (Casados))"
   ]
  },
  {
   "cell_type": "code",
   "execution_count": null,
   "metadata": {},
   "outputs": [],
   "source": [
    "                        # 14) A partir de la siguiente lista de números, crear una nueva sólo si el número es\n",
    "                        # divisible por 7<br>\n",
    "                        # lis = [18,21,29,32,35,42,56,60,63,71,84,90,91,100\n",
    "lis = [18,21,29,32,35,42,56,60,63,71,84,90,91,100]\n",
    "\n",
    "lista_nueva = []\n",
    "for numero in lis:\n",
    "    if (numero % 7 == 0):\n",
    "        lista_nueva.append(numero)\n",
    "    # else:\n",
    "        # print(numero)\n",
    "print(lista_nueva)\n",
    "print(lis)           "
   ]
  },
  {
   "cell_type": "code",
   "execution_count": null,
   "metadata": {},
   "outputs": [],
   "source": [
    "                        # 15) A partir de la lista de a continuación, contar la cantidad total de elementos que contiene,\n",
    "                        # teniendo en cuenta que un elemento de la lista podría ser otra lista:<br>\n",
    "                        # lis = [[1,2,3,4],'rojo','verde',[True,False,False],['uno','dos','tres']]\n",
    "Contar = [[1,2,3,4],'rojo','verde',[True,False,False],['uno','dos','tres']]\n",
    "\n",
    "Cant = 0\n",
    "for elem in Contar:\n",
    "    if (type(elem) == list):\n",
    "        Cant += len(elem)\n",
    "    else:\n",
    "        Cant += 1\n",
    "print ('La cantidad de elementos es :', Cant)"
   ]
  },
  {
   "cell_type": "code",
   "execution_count": 22,
   "metadata": {},
   "outputs": [
    {
     "name": "stdout",
     "output_type": "stream",
     "text": [
      "[[1, 2, 3, 4], ['rojo'], ['verde'], [True, False, False], ['uno', 'dos', 'tres']]\n"
     ]
    }
   ],
   "source": [
    "                        # 16) Tomar la lista del punto anterior y convertir cada elemento en una lista si no lo es\n",
    "Contar = [[1,2,3,4],'rojo','verde',[True,False,False],['uno','dos','tres']]\n",
    "\n",
    "for ind, ele in enumerate(Contar):\n",
    "    if (type(ele) != list):\n",
    "        Contar[ind] = [ele]\n",
    "print (Contar)"
   ]
  }
 ],
 "metadata": {
  "kernelspec": {
   "display_name": "Python 3",
   "language": "python",
   "name": "python3"
  },
  "language_info": {
   "codemirror_mode": {
    "name": "ipython",
    "version": 3
   },
   "file_extension": ".py",
   "mimetype": "text/x-python",
   "name": "python",
   "nbconvert_exporter": "python",
   "pygments_lexer": "ipython3",
   "version": "3.11.1 (tags/v3.11.1:a7a450f, Dec  6 2022, 19:58:39) [MSC v.1934 64 bit (AMD64)]"
  },
  "orig_nbformat": 4,
  "vscode": {
   "interpreter": {
    "hash": "9da6cc33780894ff2185a164a2a119d335f9d52f75fdaf747e4ff3d3ca36c7c1"
   }
  }
 },
 "nbformat": 4,
 "nbformat_minor": 2
}
