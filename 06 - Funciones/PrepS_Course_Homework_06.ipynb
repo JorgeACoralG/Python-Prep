{
 "cells": [
  {
   "cell_type": "code",
   "execution_count": 41,
   "metadata": {},
   "outputs": [],
   "source": [
    "                        # 1) Crear una función que reciba un número como parámetro y devuelva si True si es primo y False si no lo es\n",
    "def Func_Primo (Numerador):\n",
    "    Num_Es_Primo = True\n",
    "    for El_Que_Divide in range(2, Numerador):\n",
    "        if (Numerador % El_Que_Divide == 0):\n",
    "            Num_Es_Primo = False\n",
    "            break\n",
    "    return (Num_Es_Primo)"
   ]
  },
  {
   "cell_type": "code",
   "execution_count": 42,
   "metadata": {},
   "outputs": [],
   "source": [
    "                        # 2) Utilizando la función del punto 1, realizar otra función que reciba de parámetro una lista de números y\n",
    "                        # devuelva sólo aquellos que son primos, en otra lista\n",
    "def Func_Lis_Primos (Lis_A_Evaluar):\n",
    "    Lis_Primos = []\n",
    "    for Num_Evaluado in Lis_A_Evaluar:\n",
    "        if Func_Primo (Num_Evaluado):\n",
    "            Lis_Primos.append(Num_Evaluado)\n",
    "    return Lis_Primos     "
   ]
  },
  {
   "cell_type": "code",
   "execution_count": null,
   "metadata": {},
   "outputs": [],
   "source": [
    "Lis_Completa = [1,2,3,4,5,6,7,8,9,10,11,12,13,14,15,16,17,18,19,20]\n",
    "Lis_Primos = Func_Lis_Primos(Lis_Completa)\n",
    "Lis_Primos"
   ]
  },
  {
   "cell_type": "code",
   "execution_count": 12,
   "metadata": {},
   "outputs": [],
   "source": [
    "                        # 3) Crear una función que al recibir una lista de números, devuelva el que más se repite y cuántas veces lo hace.\n",
    "                        # Si hay más de un \"más repetido\", que devuelva cualquiera\n",
    "            # funcion / lista de numeros / return el que mas se repite, Modal / Cuantas veces se repite / cuantos\n",
    "def Func_Num_Mas_Repite (Lis_A_Evaluar):\n",
    "    \n",
    "    Lis_Num_Unicos = []\n",
    "    Lis_Num_Repetidos = []\n",
    "    \n",
    "    if len(Lis_A_Evaluar) == 0:\n",
    "        return None # rompe directamente la funcion para no recorrer mas !\n",
    "    \n",
    "    for Num_A_Evaluar in Lis_A_Evaluar: # por cada numero a evaluar en la lista a evaluar, empieza a evaluar si\n",
    "        if Num_A_Evaluar in Lis_Num_Unicos: # El numero a evaluar mira a ver si esta dentro de la lista unicos,\n",
    "            i = Lis_Num_Unicos.index(Num_A_Evaluar) # se va a almacenar en \"i\", eliminando los duplicados, INDEX, toma el primer elemento.\n",
    "            Lis_Num_Repetidos [i] += 1 # Si no lo encuentra, pone el primer numero.\n",
    "        else:\n",
    "            Lis_Num_Unicos.append (Num_A_Evaluar) # Si no esta en lista de unicos, lo adhiere y,\n",
    "            Lis_Num_Repetidos.append(1) # en repetidos se adhiere un 1, dependiendo del indice\n",
    "\n",
    "    moda = Lis_Num_Unicos [0] # el que mas se repite, arrancando en el primero\n",
    "    maximo = Lis_Num_Repetidos [0] # igual. Es decir si todos se repitieran, muestre el primero\n",
    "\n",
    "    for i, Num_A_Evaluar in enumerate(Lis_Num_Unicos): # Donde se almacena duplicados, por cada i y cada elemento, y si \n",
    "        if Lis_Num_Repetidos[i] > maximo: # lista de repeticiones es mayor al valor maximo, almacenado en repeticiones, se cambian los valores\n",
    "                                          # de [0] a [i] \n",
    "            moda = Lis_Num_Unicos[i]\n",
    "            maximo = Lis_Num_Repetidos[i]\n",
    "    \n",
    "    return moda, maximo # devuelve los valores"
   ]
  },
  {
   "cell_type": "code",
   "execution_count": 11,
   "metadata": {},
   "outputs": [
    {
     "name": "stdout",
     "output_type": "stream",
     "text": [
      "El valor modal es 5 y se repite 3 veces.\n"
     ]
    }
   ],
   "source": [
    "lista_A_Evaluar = [1,1,5,6,8,10,22,5,6,4,11,9,5]\n",
    "moda, repite = Func_Num_Mas_Repite (lista_A_Evaluar) # ESTE REPITE NO SE DE DONDE SALE !!!\n",
    "print('El valor modal es', moda, 'y se repite', repite, 'veces.')"
   ]
  },
  {
   "cell_type": "code",
   "execution_count": 42,
   "metadata": {},
   "outputs": [],
   "source": [
    "                        # 4) A la función del punto 3, agregar un parámetro más, que permita elegir si se requiere el menor o el mayor\n",
    "                        # de los mas repetidos.\n",
    "def Func_Num_Mas_Repite (Lis_A_Evaluar, Valor_Menor):\n",
    "    \n",
    "    Lis_Num_Unicos = []\n",
    "    Lis_Num_Repetidos = []\n",
    "    \n",
    "    if len(Lis_A_Evaluar) == 0:\n",
    "        return None\n",
    "\n",
    "    if (Valor_Menor):\n",
    "        Lis_A_Evaluar.sort()\n",
    "    \n",
    "    else:\n",
    "        Lis_A_Evaluar.sort(reverse = True)\n",
    "    \n",
    "    for Num_A_Evaluar in Lis_A_Evaluar: \n",
    "        if Num_A_Evaluar in Lis_Num_Unicos: \n",
    "            i = Lis_Num_Unicos.index(Num_A_Evaluar) \n",
    "            Lis_Num_Repetidos [i] += 1 \n",
    "        else:\n",
    "            Lis_Num_Unicos.append (Num_A_Evaluar) \n",
    "            Lis_Num_Repetidos.append(1) \n",
    "\n",
    "    moda = Lis_Num_Unicos [0] \n",
    "    maximo = Lis_Num_Repetidos [0]\n",
    "\n",
    "    for i, Num_A_Evaluar in enumerate(Lis_Num_Unicos): \n",
    "        if Lis_Num_Repetidos[i] > maximo: \n",
    "            \n",
    "            moda = Lis_Num_Unicos[i]\n",
    "            maximo = Lis_Num_Repetidos[i]\n",
    "    \n",
    "    return moda, maximo "
   ]
  },
  {
   "cell_type": "code",
   "execution_count": 51,
   "metadata": {},
   "outputs": [
    {
     "name": "stdout",
     "output_type": "stream",
     "text": [
      "El valor modal es 5 y se repite 3 veces.\n"
     ]
    }
   ],
   "source": [
    "Lista_A_Evaluar = [10,1,5,6,8,10,22,5,6,4,11,10,9,5]\n",
    "moda, repite = Func_Num_Mas_Repite (lista_A_Evaluar, Valor_Menor = True)\n",
    "print('El valor modal es', moda, 'y se repite', repite, 'veces.')"
   ]
  },
  {
   "cell_type": "code",
   "execution_count": 54,
   "metadata": {},
   "outputs": [
    {
     "name": "stdout",
     "output_type": "stream",
     "text": [
      "El valor modal es 5 y se repite 3 veces.\n"
     ]
    }
   ],
   "source": [
    "Lista_A_Evaluar = [10,1,5,6,8,10,22,5,6,4,11,10,9,5]\n",
    "moda, repite = Func_Num_Mas_Repite (lista_A_Evaluar, Valor_Menor = False)\n",
    "print('El valor modal es', moda, 'y se repite', repite, 'veces.')"
   ]
  },
  {
   "cell_type": "code",
   "execution_count": 43,
   "metadata": {},
   "outputs": [],
   "source": [
    "                        # 5) Crear una función que convierta entre grados Celsius, Farenheit y Kelvin<br>\n",
    "                        # Fórmula 1\t: (°C × 9/5) + 32 = °F<br>\n",
    "                        # Fórmula 2\t: °C + 273.15 = °K<br>\n",
    "                        # Debe recibir 3 parámetros: el valor, la medida de orígen y la medida de destino\n",
    "def convertir_grados (valor, origen, destino):\n",
    "    if (origen == 'celsius'):\n",
    "        if (destino == 'celsius'):\n",
    "            valor_destino = valor\n",
    "        elif (destino == 'farenheith'):\n",
    "            valor_destino = (valor * 9/5) + 32\n",
    "        elif (destino == 'kelvin'):\n",
    "            valor_destino = valor + 273.15\n",
    "        else:\n",
    "            print ('paramero de destino es incorrecto')\n",
    "\n",
    "    elif (origen == 'farenheith'):\n",
    "        if (destino == 'farenheith'):\n",
    "            valor_destino = valor\n",
    "        elif (destino == 'celsius'):\n",
    "            valor_destino = (valor - 32) * 5/9\n",
    "        elif (destino == 'kelvin'):\n",
    "            valor_destino = ((valor - 32) * 5 / 9) + 273.15\n",
    "        else:\n",
    "            print ('parametro de destino es incorrecto')    \n",
    "\n",
    "    elif (origen == 'kelvin'):\n",
    "        if (destino == 'kelvin'):\n",
    "            valor_destino = valor\n",
    "        if ( destino == 'farenheith'):\n",
    "            valor_destino = ((valor - 273.15) * 9 / 5) + 32\n",
    "        if (destino == 'celsius'):\n",
    "            valor_destino = (valor - 273.15)\n",
    "        else:\n",
    "            print ('parametro de destino incorrecto')\n",
    "\n",
    "    else:\n",
    "        print ('parametro de origen incorrecto')\n",
    "\n",
    "    return valor_destino"
   ]
  },
  {
   "cell_type": "code",
   "execution_count": 44,
   "metadata": {},
   "outputs": [
    {
     "name": "stdout",
     "output_type": "stream",
     "text": [
      "1 grado Celsius a Celsius: 1\n",
      "1 grado Celsius a Kelvin: 274.15\n",
      "1 grado Celsius a Farenheit: 33.8\n",
      "1 grado Kelvin a Celsius: -272.15\n",
      "parametro de destino incorrecto\n",
      "1 grado Kelvin a Kelvin: 1\n",
      "parametro de destino incorrecto\n",
      "1 grado Kelvin a Farenheit: -457.87\n",
      "1 grado Farenheit a Celsius: -17.22222222222222\n",
      "1 grado Farenheit a Kelvin: 255.92777777777775\n",
      "1 grado Farenheit a Farenheit: 1\n"
     ]
    }
   ],
   "source": [
    "print('1 grado Celsius a Celsius:', convertir_grados(1, 'celsius', 'celsius'))\n",
    "print('1 grado Celsius a Kelvin:', convertir_grados(1, 'celsius', 'kelvin'))\n",
    "print('1 grado Celsius a Farenheit:', convertir_grados(1, 'celsius', 'farenheith'))\n",
    "print('1 grado Kelvin a Celsius:', convertir_grados(1, 'kelvin', 'celsius'))\n",
    "print('1 grado Kelvin a Kelvin:', convertir_grados(1, 'kelvin', 'kelvin'))\n",
    "print('1 grado Kelvin a Farenheit:', convertir_grados(1, 'kelvin', 'farenheith'))\n",
    "print('1 grado Farenheit a Celsius:', convertir_grados(1, 'farenheith', 'celsius'))\n",
    "print('1 grado Farenheit a Kelvin:', convertir_grados(1, 'farenheith', 'kelvin'))\n",
    "print('1 grado Farenheit a Farenheit:', convertir_grados(1, 'farenheith', 'farenheith'))"
   ]
  },
  {
   "cell_type": "code",
   "execution_count": null,
   "metadata": {},
   "outputs": [],
   "source": [
    "                        # 6) Iterando una lista con los tres valores posibles de temperatura que recibe la función del punto 5, hacer un print\n",
    "                        # para cada combinación de los mismos:\n",
    "Temperaturas = ['celsius', 'kelvin', 'farenheith']\n",
    "\n",
    "for i in range(0, 3):\n",
    "    for j in range (0, 3):\n",
    "        print ('1 grado en', Temperaturas[i], 'es en', Temperaturas[j], ':', convertir_grados(1, Temperaturas[i], Temperaturas[j]))\n",
    "    "
   ]
  },
  {
   "cell_type": "code",
   "execution_count": 71,
   "metadata": {},
   "outputs": [],
   "source": [
    "                        # 7) Armar una función que devuelva el factorial de un número. Tener en cuenta que el usuario puede equivocarse\n",
    "                        # y enviar de parámetro un número no entero o negativo\n",
    "def factorial (numero):\n",
    "    if (type(numero) != int):\n",
    "        return 'El dato debe ser un entero'\n",
    "    elif (numero < 0):\n",
    "        return 'El numero debe ser positivo'\n",
    "    elif (numero > 1):\n",
    "        numero = numero * factorial (numero - 1)\n",
    "    return numero"
   ]
  },
  {
   "cell_type": "code",
   "execution_count": 72,
   "metadata": {},
   "outputs": [
    {
     "name": "stdout",
     "output_type": "stream",
     "text": [
      "120\n"
     ]
    }
   ],
   "source": [
    "print(factorial(5))"
   ]
  }
 ],
 "metadata": {
  "kernelspec": {
   "display_name": "Python 3",
   "language": "python",
   "name": "python3"
  },
  "language_info": {
   "codemirror_mode": {
    "name": "ipython",
    "version": 3
   },
   "file_extension": ".py",
   "mimetype": "text/x-python",
   "name": "python",
   "nbconvert_exporter": "python",
   "pygments_lexer": "ipython3",
   "version": "3.11.1"
  },
  "orig_nbformat": 4,
  "vscode": {
   "interpreter": {
    "hash": "9da6cc33780894ff2185a164a2a119d335f9d52f75fdaf747e4ff3d3ca36c7c1"
   }
  }
 },
 "nbformat": 4,
 "nbformat_minor": 2
}
