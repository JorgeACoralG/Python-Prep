{
 "cells": [
  {
   "cell_type": "code",
   "execution_count": 17,
   "metadata": {},
   "outputs": [],
   "source": [
    "                        # 1) Crear una función que reciba un número como parámetro y devuelva si True si es primo y False si no lo es\n",
    "def numero_primo (numero):\n",
    "    Es_numero_primo = True\n",
    "    for indice in range(2, numero):\n",
    "        if (numero % indice == 0):\n",
    "            Es_numero_primo = False\n",
    "            break\n",
    "    return Es_numero_primo\n"
   ]
  },
  {
   "cell_type": "code",
   "execution_count": 52,
   "metadata": {},
   "outputs": [],
   "source": [
    "lista = (1,2,3,4,5,6,7,'P',8,9)\n",
    "def Primo_en_lista (Lista):\n",
    "    Lista_primos = []\n",
    "    for numero in Lista:\n",
    "        if numero_primo ((numero)):\n",
    "            Lista_primos.append(numero)\n",
    "    return(Lista_primos)"
   ]
  },
  {
   "cell_type": "code",
   "execution_count": 53,
   "metadata": {},
   "outputs": [
    {
     "ename": "TypeError",
     "evalue": "'str' object cannot be interpreted as an integer",
     "output_type": "error",
     "traceback": [
      "\u001b[1;31m---------------------------------------------------------------------------\u001b[0m",
      "\u001b[1;31mTypeError\u001b[0m                                 Traceback (most recent call last)",
      "Cell \u001b[1;32mIn[53], line 1\u001b[0m\n\u001b[1;32m----> 1\u001b[0m Primo_en_lista(lista)\n",
      "Cell \u001b[1;32mIn[52], line 5\u001b[0m, in \u001b[0;36mPrimo_en_lista\u001b[1;34m(Lista)\u001b[0m\n\u001b[0;32m      3\u001b[0m Lista_primos \u001b[39m=\u001b[39m []\n\u001b[0;32m      4\u001b[0m \u001b[39mfor\u001b[39;00m numero \u001b[39min\u001b[39;00m Lista:\n\u001b[1;32m----> 5\u001b[0m     \u001b[39mif\u001b[39;00m numero_primo ((numero)):\n\u001b[0;32m      6\u001b[0m         Lista_primos\u001b[39m.\u001b[39mappend(numero)\n\u001b[0;32m      7\u001b[0m \u001b[39mreturn\u001b[39;00m(Lista_primos)\n",
      "Cell \u001b[1;32mIn[17], line 4\u001b[0m, in \u001b[0;36mnumero_primo\u001b[1;34m(numero)\u001b[0m\n\u001b[0;32m      2\u001b[0m \u001b[39mdef\u001b[39;00m \u001b[39mnumero_primo\u001b[39m (numero):\n\u001b[0;32m      3\u001b[0m     Es_numero_primo \u001b[39m=\u001b[39m \u001b[39mTrue\u001b[39;00m\n\u001b[1;32m----> 4\u001b[0m     \u001b[39mfor\u001b[39;00m indice \u001b[39min\u001b[39;00m \u001b[39mrange\u001b[39m(\u001b[39m2\u001b[39m, numero):\n\u001b[0;32m      5\u001b[0m         \u001b[39mif\u001b[39;00m (numero \u001b[39m%\u001b[39m indice \u001b[39m==\u001b[39m \u001b[39m0\u001b[39m):\n\u001b[0;32m      6\u001b[0m             Es_numero_primo \u001b[39m=\u001b[39m \u001b[39mFalse\u001b[39;00m\n",
      "\u001b[1;31mTypeError\u001b[0m: 'str' object cannot be interpreted as an integer"
     ]
    }
   ],
   "source": [
    "Primo_en_lista(lista)"
   ]
  },
  {
   "cell_type": "code",
   "execution_count": null,
   "metadata": {},
   "outputs": [],
   "source": []
  },
  {
   "cell_type": "code",
   "execution_count": null,
   "metadata": {},
   "outputs": [],
   "source": []
  },
  {
   "cell_type": "code",
   "execution_count": null,
   "metadata": {},
   "outputs": [],
   "source": []
  },
  {
   "cell_type": "code",
   "execution_count": 34,
   "metadata": {},
   "outputs": [],
   "source": [
    "                        # 2) Utilizando la función del punto 1, realizar otra función que reciba de parámetro una lista de números y\n",
    "                        # devuelva sólo aquellos que son primos, en otra lista\n",
    "def primos_en_lista (lista_numeros):\n",
    "    LisSon_primos = []\n",
    "    for elemento in lista_numeros:\n",
    "        if numero_primo (int(elemento)):\n",
    "            LisSon_primos.append(elemento)\n",
    "    return (LisSon_primos)"
   ]
  }
 ],
 "metadata": {
  "kernelspec": {
   "display_name": "Python 3",
   "language": "python",
   "name": "python3"
  },
  "language_info": {
   "codemirror_mode": {
    "name": "ipython",
    "version": 3
   },
   "file_extension": ".py",
   "mimetype": "text/x-python",
   "name": "python",
   "nbconvert_exporter": "python",
   "pygments_lexer": "ipython3",
   "version": "3.11.1"
  },
  "orig_nbformat": 4,
  "vscode": {
   "interpreter": {
    "hash": "9da6cc33780894ff2185a164a2a119d335f9d52f75fdaf747e4ff3d3ca36c7c1"
   }
  }
 },
 "nbformat": 4,
 "nbformat_minor": 2
}
