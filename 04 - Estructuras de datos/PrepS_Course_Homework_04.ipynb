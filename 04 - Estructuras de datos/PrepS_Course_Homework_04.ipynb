{
 "cells": [
  {
   "cell_type": "code",
   "execution_count": 6,
   "metadata": {},
   "outputs": [
    {
     "name": "stdout",
     "output_type": "stream",
     "text": [
      "['Cali', 'Buenos Aires', 'Brasilia', 'Caracas', 'Quito', 'Lima']\n",
      "6\n"
     ]
    }
   ],
   "source": [
    "                        # 1) Crear una lista que contenga nombres de ciudades del mundo que contenga más de 5 elementos e\n",
    "                        # imprimir por pantalla\n",
    "Ciudades = ['Cali', 'Buenos Aires', 'Brasilia', 'Caracas', 'Quito', 'Lima']\n",
    "print(Ciudades)\n",
    "print(len(Ciudades))"
   ]
  },
  {
   "cell_type": "code",
   "execution_count": null,
   "metadata": {},
   "outputs": [],
   "source": [
    "Ciudades."
   ]
  },
  {
   "cell_type": "code",
   "execution_count": 17,
   "metadata": {},
   "outputs": [
    {
     "name": "stdout",
     "output_type": "stream",
     "text": [
      "Buenos Aires\n"
     ]
    }
   ],
   "source": [
    "                        # 2) Imprimir por pantalla el segundo elemento de la lista\n",
    "print(Ciudades[1])"
   ]
  },
  {
   "cell_type": "code",
   "execution_count": 18,
   "metadata": {},
   "outputs": [
    {
     "name": "stdout",
     "output_type": "stream",
     "text": [
      "['Buenos Aires', 'Brasilia', 'Caracas']\n"
     ]
    }
   ],
   "source": [
    "                        # 3) Imprimir por pantalla del segundo al cuarto elemento\n",
    "print(Ciudades[1:4])"
   ]
  },
  {
   "cell_type": "code",
   "execution_count": 19,
   "metadata": {},
   "outputs": [
    {
     "name": "stdout",
     "output_type": "stream",
     "text": [
      "<class 'list'>\n"
     ]
    }
   ],
   "source": [
    "                        # 4) Visualizar el tipo de dato de la lista\n",
    "print(type(Ciudades))"
   ]
  },
  {
   "cell_type": "code",
   "execution_count": 20,
   "metadata": {},
   "outputs": [
    {
     "name": "stdout",
     "output_type": "stream",
     "text": [
      "['Brasilia', 'Caracas', 'Quito', 'Lima']\n"
     ]
    }
   ],
   "source": [
    "                        # 5) Visualizar todos los elementos de la lista a partir del tercero de manera genérica, es decir,\n",
    "                        # sin explicitar la posición del último elemento\n",
    "print(Ciudades[2:])"
   ]
  },
  {
   "cell_type": "code",
   "execution_count": 21,
   "metadata": {},
   "outputs": [
    {
     "name": "stdout",
     "output_type": "stream",
     "text": [
      "['Cali', 'Buenos Aires', 'Brasilia', 'Caracas']\n"
     ]
    }
   ],
   "source": [
    "                        # 6) Visualizar los primeros 4 elementos de la lista\n",
    "print(Ciudades[:4])"
   ]
  },
  {
   "cell_type": "code",
   "execution_count": 22,
   "metadata": {},
   "outputs": [
    {
     "name": "stdout",
     "output_type": "stream",
     "text": [
      "['Cali', 'Buenos Aires', 'Brasilia', 'Caracas', 'Quito', 'Lima', 'Ciudad de Mexico', 'Cali']\n"
     ]
    }
   ],
   "source": [
    "                        # 7) Agregar una ciudad más a la lista que ya exista y otra que no ¿Arroja algún tipo de error?\n",
    "Ciudades.append('Ciudad de Mexico')\n",
    "Ciudades.append('Cali')\n",
    "print(Ciudades)"
   ]
  },
  {
   "cell_type": "code",
   "execution_count": 23,
   "metadata": {},
   "outputs": [
    {
     "name": "stdout",
     "output_type": "stream",
     "text": [
      "['Cali', 'Buenos Aires', 'Brasilia', 'CiudadPosicion4', 'Caracas', 'Quito', 'Lima', 'Ciudad de Mexico', 'Cali']\n"
     ]
    }
   ],
   "source": [
    "                        # 8) Agregar otra ciudad, pero en la cuarta posición\n",
    "Ciudades.insert(3, 'CiudadPosicion4')\n",
    "print (Ciudades)"
   ]
  },
  {
   "cell_type": "code",
   "execution_count": 24,
   "metadata": {},
   "outputs": [
    {
     "name": "stdout",
     "output_type": "stream",
     "text": [
      "['Cali', 'Buenos Aires', 'Brasilia', 'CiudadPosicion4', 'Caracas', 'Quito', 'Lima', 'Ciudad de Mexico', 'Cali', 'Madrid', 'Hamburgo', 'Paris', 'Roma']\n"
     ]
    }
   ],
   "source": [
    "                        # 9) Concatenar otra lista a la ya creada\n",
    "CiudadesA = ['Madrid', 'Hamburgo', 'Paris', 'Roma']\n",
    "Ciudades.extend(CiudadesA)\n",
    "print(Ciudades)"
   ]
  },
  {
   "cell_type": "code",
   "execution_count": 27,
   "metadata": {},
   "outputs": [
    {
     "name": "stdout",
     "output_type": "stream",
     "text": [
      "0\n"
     ]
    }
   ],
   "source": [
    "                        # 10) Encontrar el índice de la ciudad que en el punto 7 agregamos duplicada. ¿Se nota alguna particularidad?\n",
    "print(Ciudades.index('Cali'))"
   ]
  },
  {
   "cell_type": "code",
   "execution_count": 28,
   "metadata": {},
   "outputs": [
    {
     "ename": "ValueError",
     "evalue": "'Medellìn' is not in list",
     "output_type": "error",
     "traceback": [
      "\u001b[1;31m---------------------------------------------------------------------------\u001b[0m",
      "\u001b[1;31mValueError\u001b[0m                                Traceback (most recent call last)",
      "Cell \u001b[1;32mIn[28], line 2\u001b[0m\n\u001b[0;32m      1\u001b[0m \u001b[39m# 11) ¿Qué pasa si se busca un elemento que no existe?\u001b[39;00m\n\u001b[1;32m----> 2\u001b[0m \u001b[39mprint\u001b[39m(Ciudades\u001b[39m.\u001b[39;49mindex(\u001b[39m'\u001b[39;49m\u001b[39mMedellìn\u001b[39;49m\u001b[39m'\u001b[39;49m))\n",
      "\u001b[1;31mValueError\u001b[0m: 'Medellìn' is not in list"
     ]
    }
   ],
   "source": [
    "                        # 11) ¿Qué pasa si se busca un elemento que no existe?\n",
    "print(Ciudades.index('Medellìn'))"
   ]
  },
  {
   "cell_type": "code",
   "execution_count": 40,
   "metadata": {},
   "outputs": [],
   "source": [
    "                        # 12) Eliminar un elemento de la lista\n",
    "Ciudades.remove('CiudadPosicion4')"
   ]
  },
  {
   "cell_type": "code",
   "execution_count": 41,
   "metadata": {},
   "outputs": [
    {
     "ename": "ValueError",
     "evalue": "list.remove(x): x not in list",
     "output_type": "error",
     "traceback": [
      "\u001b[1;31m---------------------------------------------------------------------------\u001b[0m",
      "\u001b[1;31mValueError\u001b[0m                                Traceback (most recent call last)",
      "Cell \u001b[1;32mIn[41], line 2\u001b[0m\n\u001b[0;32m      1\u001b[0m \u001b[39m# 13) ¿Qué pasa si el elemento a eliminar no existe?\u001b[39;00m\n\u001b[1;32m----> 2\u001b[0m Ciudades\u001b[39m.\u001b[39;49mremove(\u001b[39m'\u001b[39;49m\u001b[39mMongolia\u001b[39;49m\u001b[39m'\u001b[39;49m)\n",
      "\u001b[1;31mValueError\u001b[0m: list.remove(x): x not in list"
     ]
    }
   ],
   "source": [
    "                        # 13) ¿Qué pasa si el elemento a eliminar no existe?\n",
    "Ciudades.remove('Mongolia')"
   ]
  },
  {
   "cell_type": "code",
   "execution_count": 42,
   "metadata": {},
   "outputs": [
    {
     "name": "stdout",
     "output_type": "stream",
     "text": [
      "Roma\n"
     ]
    }
   ],
   "source": [
    "                        # 14) Extraer el último elemento de la lista, guardarlo en una variable e imprimirlo\n",
    "Ultimo = Ciudades.pop()\n",
    "print(Ultimo)"
   ]
  },
  {
   "cell_type": "code",
   "execution_count": null,
   "metadata": {},
   "outputs": [],
   "source": [
    "Ciudades."
   ]
  },
  {
   "cell_type": "code",
   "execution_count": 43,
   "metadata": {},
   "outputs": [
    {
     "name": "stdout",
     "output_type": "stream",
     "text": [
      "['Cali', 'Buenos Aires', 'Brasilia', 'Caracas', 'Quito', 'Lima', 'Ciudad de Mexico', 'Cali', 'Madrid', 'Hamburgo', 'Paris', 'Cali', 'Buenos Aires', 'Brasilia', 'Caracas', 'Quito', 'Lima', 'Ciudad de Mexico', 'Cali', 'Madrid', 'Hamburgo', 'Paris', 'Cali', 'Buenos Aires', 'Brasilia', 'Caracas', 'Quito', 'Lima', 'Ciudad de Mexico', 'Cali', 'Madrid', 'Hamburgo', 'Paris', 'Cali', 'Buenos Aires', 'Brasilia', 'Caracas', 'Quito', 'Lima', 'Ciudad de Mexico', 'Cali', 'Madrid', 'Hamburgo', 'Paris']\n"
     ]
    }
   ],
   "source": [
    "                        # 15) Mostrar la lista multiplicada por 4\n",
    "print(Ciudades * 4)"
   ]
  },
  {
   "cell_type": "code",
   "execution_count": 44,
   "metadata": {},
   "outputs": [
    {
     "name": "stdout",
     "output_type": "stream",
     "text": [
      "<class 'tuple'>\n",
      "(1, 2, 3, 4, 5, 6, 7, 8, 9, 10, 11, 12, 13, 14, 15, 16, 17, 18, 19, 20)\n"
     ]
    }
   ],
   "source": [
    "                        # 16) Crear una tupla que contenga los números enteros del 1 al 20\n",
    "UnaTupla = (1,2,3,4,5,6,7,8,9,10,11,12,13,14,15,16,17,18,19,20)\n",
    "print(type(UnaTupla))\n",
    "print(UnaTupla)"
   ]
  },
  {
   "cell_type": "code",
   "execution_count": 9,
   "metadata": {},
   "outputs": [],
   "source": [
    "UnaTupla = (1,2,3,4,5,6,7,8,9,10,11,12,13,14,15,16,17,18,19,20)"
   ]
  },
  {
   "cell_type": "code",
   "execution_count": 27,
   "metadata": {},
   "outputs": [
    {
     "name": "stdout",
     "output_type": "stream",
     "text": [
      "Esta iteracion  0 corresponde a este 5\n",
      "Esta iteracion  1 corresponde a este 4\n",
      "Esta iteracion  2 corresponde a este 9\n",
      "Esta iteracion  3 corresponde a este 2\n"
     ]
    }
   ],
   "source": [
    "lis = [5,4,9,2]\n",
    "i = 0\n",
    "while (i < len(lis)):\n",
    "    elemento = lis[i]\n",
    "    print ('Esta iteracion ', i, 'corresponde a este', elemento)\n",
    "    i += 1"
   ]
  },
  {
   "cell_type": "code",
   "execution_count": 15,
   "metadata": {},
   "outputs": [
    {
     "name": "stdout",
     "output_type": "stream",
     "text": [
      "7 8 9\n",
      "(1, 2, 3, 4, 5, 6, 7, 8, 9, 10, 11, 12, 13, 14, 15, 16, 17, 18, 19, 20)\n"
     ]
    }
   ],
   "source": [
    "a1, a2, a3 = UnaTupla[6:9]\n",
    "print (a1,a2,a3)\n",
    "print(UnaTupla)"
   ]
  },
  {
   "cell_type": "code",
   "execution_count": 49,
   "metadata": {},
   "outputs": [
    {
     "name": "stdout",
     "output_type": "stream",
     "text": [
      "(11, 12, 13, 14, 15, 16)\n"
     ]
    }
   ],
   "source": [
    "                        # 17) Imprimir desde el índice 10 al 15 de la tupla\n",
    "print(UnaTupla[10:16])"
   ]
  },
  {
   "cell_type": "code",
   "execution_count": 50,
   "metadata": {},
   "outputs": [
    {
     "name": "stdout",
     "output_type": "stream",
     "text": [
      "True\n",
      "False\n"
     ]
    }
   ],
   "source": [
    "                        # 18) Evaluar si los números 20 y 30 están dentro de la tupla\n",
    "print(20 in UnaTupla)\n",
    "print(30 in UnaTupla)"
   ]
  },
  {
   "cell_type": "code",
   "execution_count": 59,
   "metadata": {},
   "outputs": [
    {
     "name": "stdout",
     "output_type": "stream",
     "text": [
      "['Cali', 'Buenos Aires', 'Brasilia', 'Caracas', 'Quito', 'Lima', 'Ciudad de Mexico', 'Cali', 'Madrid', 'Hamburgo']\n"
     ]
    }
   ],
   "source": [
    "print(Ciudades)"
   ]
  },
  {
   "cell_type": "code",
   "execution_count": 60,
   "metadata": {},
   "outputs": [
    {
     "name": "stdout",
     "output_type": "stream",
     "text": [
      "El elemento Paris no existe y se agrego\n"
     ]
    }
   ],
   "source": [
    "                        # 19) Con la lista creada en el punto 1, validar la existencia del elemento 'París' y si no existe, agregarlo.\n",
    "                        # Utilizar una variable e informar lo sucedido.\n",
    "ciudad = 'Paris'\n",
    "if (ciudad in Ciudades):\n",
    "    print ('Si existe el elemento')\n",
    "else:\n",
    "    Ciudades.append('Paris')\n",
    "    print('El elemento', ciudad, 'no existe y se agrego')"
   ]
  },
  {
   "cell_type": "code",
   "execution_count": 1,
   "metadata": {},
   "outputs": [
    {
     "ename": "NameError",
     "evalue": "name 'Ciudades' is not defined",
     "output_type": "error",
     "traceback": [
      "\u001b[1;31m---------------------------------------------------------------------------\u001b[0m",
      "\u001b[1;31mNameError\u001b[0m                                 Traceback (most recent call last)",
      "Cell \u001b[1;32mIn[1], line 2\u001b[0m\n\u001b[0;32m      1\u001b[0m \u001b[39m# 20) Mostrar la cantidad de veces que se encuentra un elemento específico dentro de la tupla y de la lista\u001b[39;00m\n\u001b[1;32m----> 2\u001b[0m \u001b[39mprint\u001b[39m(Ciudades\u001b[39m.\u001b[39mcount(\u001b[39m'\u001b[39m\u001b[39mCali\u001b[39m\u001b[39m'\u001b[39m))\n\u001b[0;32m      3\u001b[0m \u001b[39mprint\u001b[39m(UnaTupla\u001b[39m.\u001b[39mcount(\u001b[39m15\u001b[39m))\n\u001b[0;32m      4\u001b[0m \u001b[39mprint\u001b[39m(Ciudades\u001b[39m.\u001b[39mcount())\n",
      "\u001b[1;31mNameError\u001b[0m: name 'Ciudades' is not defined"
     ]
    }
   ],
   "source": [
    "                        # 20) Mostrar la cantidad de veces que se encuentra un elemento específico dentro de la tupla y de la lista\n",
    "print(Ciudades.count('Cali'))\n",
    "print(UnaTupla.count(15))\n",
    "print(Ciudades"
   ]
  },
  {
   "cell_type": "code",
   "execution_count": 62,
   "metadata": {},
   "outputs": [
    {
     "name": "stdout",
     "output_type": "stream",
     "text": [
      "<class 'list'>\n"
     ]
    }
   ],
   "source": [
    "                        # 21) Convertir la tupla en una lista\n",
    "UnaTuplaLista = list(UnaTupla)\n",
    "print(type(UnaTuplaLista))"
   ]
  },
  {
   "cell_type": "code",
   "execution_count": null,
   "metadata": {},
   "outputs": [],
   "source": [
    "                        # 22) Desempaquetar solo los primeros 3 elementos de la tupla en 3 variables\n",
    "v1,v2,v3,_,_,_,_,_,_,_,_,_,_,_,_,_,_,_,_,_, = UnaTupla\n",
    "print(v1)\n",
    "print(v2)\n",
    "print(v3) "
   ]
  },
  {
   "cell_type": "code",
   "execution_count": 67,
   "metadata": {},
   "outputs": [
    {
     "name": "stdout",
     "output_type": "stream",
     "text": [
      "['Cali', 'Buenos Aires', 'Brasilia', 'Caracas', 'Quito', 'Lima', 'Ciudad de Mexico', 'Cali', 'Madrid', 'Hamburgo', 'Paris']\n"
     ]
    }
   ],
   "source": [
    "print(Ciudades)"
   ]
  },
  {
   "cell_type": "code",
   "execution_count": 69,
   "metadata": {},
   "outputs": [],
   "source": [
    "                        # 23) Crear un diccionario utilizando la lista creada en el punto 1, asignandole la clave \"ciudad\".\n",
    "                        # Agregar tambien otras claves, como puede ser \"Pais\" y \"Continente\".\n",
    "Diccionario = {'Ciudadela' : Ciudades,\n",
    "'Pais' : ['Colombia', 'Argentina', 'Brasil', 'Venezuela', 'Ecuador', 'Peru', 'Mexico', 'Colombia', 'España', 'Alemania', 'Francia'],\n",
    "'Continente' : ['America', 'America', 'America', 'America', 'America', 'America', 'America', 'America', 'Europa', 'Europa', 'Europa']\n",
    "}\n"
   ]
  },
  {
   "cell_type": "code",
   "execution_count": 71,
   "metadata": {},
   "outputs": [
    {
     "name": "stdout",
     "output_type": "stream",
     "text": [
      "dict_keys(['Ciudadela', 'Pais', 'Continente'])\n"
     ]
    }
   ],
   "source": [
    "                        # 24) Imprimir las claves del diccionario\n",
    "print(Diccionario.keys())"
   ]
  },
  {
   "cell_type": "code",
   "execution_count": 76,
   "metadata": {},
   "outputs": [
    {
     "name": "stdout",
     "output_type": "stream",
     "text": [
      "['Cali', 'Buenos Aires', 'Brasilia', 'Caracas', 'Quito', 'Lima', 'Ciudad de Mexico', 'Cali', 'Madrid', 'Hamburgo', 'Paris']\n"
     ]
    }
   ],
   "source": [
    "                        # 25) Imprimir las ciudades a través de su clave\n",
    "print(Diccionario['Ciudadela'])"
   ]
  }
 ],
 "metadata": {
  "kernelspec": {
   "display_name": "Python 3",
   "language": "python",
   "name": "python3"
  },
  "language_info": {
   "codemirror_mode": {
    "name": "ipython",
    "version": 3
   },
   "file_extension": ".py",
   "mimetype": "text/x-python",
   "name": "python",
   "nbconvert_exporter": "python",
   "pygments_lexer": "ipython3",
   "version": "3.11.1 (tags/v3.11.1:a7a450f, Dec  6 2022, 19:58:39) [MSC v.1934 64 bit (AMD64)]"
  },
  "orig_nbformat": 4,
  "vscode": {
   "interpreter": {
    "hash": "9da6cc33780894ff2185a164a2a119d335f9d52f75fdaf747e4ff3d3ca36c7c1"
   }
  }
 },
 "nbformat": 4,
 "nbformat_minor": 2
}
