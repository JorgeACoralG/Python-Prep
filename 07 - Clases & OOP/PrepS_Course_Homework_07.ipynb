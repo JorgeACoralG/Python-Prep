{
 "cells": [
  {
   "cell_type": "code",
   "execution_count": 162,
   "metadata": {},
   "outputs": [],
   "source": [
    "                        # 1) Crear la clase vehículo que contenga los atributos:<br>\n",
    "                            # Color<br>\n",
    "                            # Si es moto, auto, camioneta ó camión<br>\n",
    "                            # Cilindrada del motor\n",
    "class Vehiculos:\n",
    "    def __init__(self, color, clase, cilindraje):\n",
    "        self.col = color\n",
    "        self.cla = clase\n",
    "        self.cil = cilindraje\n",
    "        self.velocidad = 0\n",
    "        self.direccion = 0\n",
    "\n",
    "    def Acelerar (self, velo):\n",
    "        self.velocidad += velo\n",
    "\n",
    "    def Frenar (self, velo):\n",
    "        self.velocidad -= velo\n",
    "\n",
    "    def Doblar (self, grad):\n",
    "        self.direccion += grad\n"
   ]
  },
  {
   "cell_type": "code",
   "execution_count": 163,
   "metadata": {},
   "outputs": [],
   "source": [
    "veh = Vehiculos ('rojo', 'auto', '2.0')\n",
    "veh1= Vehiculos ('verde', 'camion', '4.3')\n",
    "veh2= Vehiculos ('azul', 'moto', '1.5')"
   ]
  },
  {
   "cell_type": "code",
   "execution_count": 164,
   "metadata": {},
   "outputs": [
    {
     "data": {
      "text/plain": [
       "('rojo', 'auto', '2.0', 'verde', 'verde', '4.3')"
      ]
     },
     "execution_count": 164,
     "metadata": {},
     "output_type": "execute_result"
    }
   ],
   "source": [
    "veh.col, veh.cla, veh.cil, veh1.col, veh1.col, veh1.cil"
   ]
  },
  {
   "cell_type": "code",
   "execution_count": 165,
   "metadata": {},
   "outputs": [
    {
     "data": {
      "text/plain": [
       "0"
      ]
     },
     "execution_count": 165,
     "metadata": {},
     "output_type": "execute_result"
    }
   ],
   "source": [
    "veh2.velocidad"
   ]
  },
  {
   "cell_type": "code",
   "execution_count": 166,
   "metadata": {},
   "outputs": [],
   "source": [
    "veh2.Acelerar(-30)"
   ]
  },
  {
   "cell_type": "code",
   "execution_count": 167,
   "metadata": {},
   "outputs": [],
   "source": [
    "                        # 2) A la clase Vehiculo creada en el punto 1, agregar los siguientes métodos:<br>\n",
    "                            # Acelerar<br>\n",
    "                            # Frenar<br>\n",
    "                            # Doblar<br>\n",
    "class Vehiculoss:\n",
    "    def __init__(self, color, clase, cilindraje):\n",
    "        self.cols = color\n",
    "        self.clas = clase\n",
    "        self.cils = cilindraje\n",
    "        self.velocidads = 0\n",
    "        self.direccions = 0\n",
    "\n",
    "    def Acelerars (self, velo):\n",
    "        self.velocidads += velo\n",
    "\n",
    "    def Frenars (self, velo):\n",
    "        self.velocidads -= velo\n",
    "\n",
    "    def Doblars (self, grad):\n",
    "        self.direccions += grad\n"
   ]
  },
  {
   "cell_type": "code",
   "execution_count": 168,
   "metadata": {},
   "outputs": [
    {
     "data": {
      "text/plain": [
       "-30"
      ]
     },
     "execution_count": 168,
     "metadata": {},
     "output_type": "execute_result"
    }
   ],
   "source": [
    "veh2.velocidad"
   ]
  },
  {
   "cell_type": "code",
   "execution_count": 169,
   "metadata": {},
   "outputs": [],
   "source": [
    "veh2.Acelerar(210)"
   ]
  },
  {
   "cell_type": "code",
   "execution_count": 170,
   "metadata": {},
   "outputs": [],
   "source": [
    "veh2.Frenar(150)"
   ]
  },
  {
   "cell_type": "code",
   "execution_count": 171,
   "metadata": {},
   "outputs": [],
   "source": [
    "veh2.Doblar(-180)"
   ]
  },
  {
   "cell_type": "code",
   "execution_count": 172,
   "metadata": {},
   "outputs": [
    {
     "data": {
      "text/plain": [
       "-180"
      ]
     },
     "execution_count": 172,
     "metadata": {},
     "output_type": "execute_result"
    }
   ],
   "source": [
    "veh2.direccion"
   ]
  },
  {
   "cell_type": "code",
   "execution_count": 173,
   "metadata": {},
   "outputs": [],
   "source": [
    "                        # 3) Instanciar 3 objetos de la clase vehículo y ejecutar sus métodos, probar luego el resultado\n",
    "a1 = Vehiculos ('rojo', 'auto', 2)\n",
    "a2 = Vehiculos ('blanco', 'camioneta', 3.6)\n",
    "a3 = Vehiculos ( 'negro', 'moto', 1) "
   ]
  },
  {
   "cell_type": "code",
   "execution_count": 174,
   "metadata": {},
   "outputs": [],
   "source": [
    "a1.Acelerar(40)\n",
    "a2.Acelerar(60)\n",
    "a3.Acelerar(30)\n",
    "a1.Doblar(30)\n",
    "a1.Doblar(-30)\n",
    "a3.Acelerar(-30)\n"
   ]
  },
  {
   "cell_type": "code",
   "execution_count": 175,
   "metadata": {},
   "outputs": [
    {
     "data": {
      "text/plain": [
       "(40, 0, 0)"
      ]
     },
     "execution_count": 175,
     "metadata": {},
     "output_type": "execute_result"
    }
   ],
   "source": [
    "a1.velocidad, a1.direccion, a3.velocidad"
   ]
  },
  {
   "cell_type": "code",
   "execution_count": 176,
   "metadata": {},
   "outputs": [],
   "source": [
    "                        # 4) Agregar a la clase Vehiculo, un método que muestre su estado, es decir, a que velocidad se encuentra y su dirección. Y otro método que muestre color, tipo\n",
    "                        # y cilindrada\n",
    "class Vehiculos:\n",
    "    def __init__(self, color, clase, cilindraje):\n",
    "        self.col = color\n",
    "        self.cla = clase\n",
    "        self.cil = cilindraje\n",
    "        self.velocidad = 0\n",
    "        self.direccion = 0\n",
    "\n",
    "    def Acelerar (self, velo):\n",
    "        self.velocidad += velo\n",
    "\n",
    "    def Frenar (self, velo):\n",
    "        self.velocidad -= velo\n",
    "\n",
    "    def Doblar (self, grad):\n",
    "        self.direccion += grad\n",
    "\n",
    "    def Estado (self):\n",
    "        print ('Velocidad ', self.velocidad, 'su direccion es', self.direccion)\n",
    "\n",
    "    def Detalle(self):\n",
    "        print(' - Color : ', self.col, '- Clase : ', self.cla, '- Cilindrada : ', self.cil )\n"
   ]
  },
  {
   "cell_type": "code",
   "execution_count": 177,
   "metadata": {},
   "outputs": [],
   "source": [
    "a1 = Vehiculos ('rojo', 'auto', 2)\n",
    "a2 = Vehiculos ('blanco', 'camioneta', 3.6)\n",
    "a3 = Vehiculos ( 'negro', 'moto', 1) "
   ]
  },
  {
   "cell_type": "code",
   "execution_count": 178,
   "metadata": {},
   "outputs": [],
   "source": [
    "a1.Acelerar(40)\n",
    "a2.Acelerar(60)"
   ]
  },
  {
   "cell_type": "code",
   "execution_count": 179,
   "metadata": {},
   "outputs": [],
   "source": [
    "a2.Doblar(60)"
   ]
  },
  {
   "cell_type": "code",
   "execution_count": 180,
   "metadata": {},
   "outputs": [
    {
     "name": "stdout",
     "output_type": "stream",
     "text": [
      " - Color :  blanco - Clase :  camioneta - Cilindrada :  3.6\n",
      "Velocidad  60 su direccion es 60\n"
     ]
    }
   ],
   "source": [
    "a2.Detalle()\n",
    "a2.Estado()"
   ]
  },
  {
   "cell_type": "code",
   "execution_count": 181,
   "metadata": {},
   "outputs": [],
   "source": [
    "                        # 5) Crear una clase que permita utilizar las funciones creadas en la práctica del módulo 6<br>\n",
    "                            # Verificar Primo<br>\n",
    "                            # Valor modal<br>\n",
    "                            # Conversión grados<br>\n",
    "                            # Factorial<br>\n",
    "class Herramientas:\n",
    "    def __init__(self, lista_numeros):\n",
    "        self.lista = lista_numeros\n",
    "\n",
    " \n",
    "    \n",
    "    def factorial (self):\n",
    "        for i in self.lista:\n",
    "            print('El factorial de ', i, 'es: ', self.__factorial(i))\n",
    "        \n",
    "        \n",
    "        \n",
    "        if (type(numero) != int):\n",
    "            return 'El dato debe ser un entero'\n",
    "        elif (numero < 0):\n",
    "            return 'El numero debe ser positivo'\n",
    "        elif (numero > 1):\n",
    "            numero = numero * self.factorial (numero - 1)\n",
    "        return numero\n",
    "\n",
    "    \n",
    "    \n",
    "    def validar_primo (self, numero):\n",
    "        primo = True\n",
    "        for i in range (2, numero):\n",
    "            if numero % i == 0:\n",
    "                primo = False\n",
    "                break\n",
    "        return primo\n",
    "\n",
    "    \n",
    "    \n",
    "    def convertir_grados (self, valor, origen, destino):\n",
    "        if (origen == 'celsius'):\n",
    "            if (destino == 'celsius'):\n",
    "                valor_destino = valor\n",
    "            elif (destino == 'farenheith'):\n",
    "                valor_destino = (valor * 9/5) + 32\n",
    "            elif (destino == 'kelvin'):\n",
    "                valor_destino = valor + 273.15\n",
    "            else:\n",
    "                print ('paramero de destino es incorrecto')\n",
    "        elif (origen == 'farenheith'):\n",
    "            if (destino == 'farenheith'):\n",
    "                valor_destino = valor\n",
    "            elif (destino == 'celsius'):\n",
    "                valor_destino = (valor - 32) * 5/9\n",
    "            elif (destino == 'kelvin'):\n",
    "                valor_destino = ((valor - 32) * 5 / 9) + 273.15\n",
    "            else:\n",
    "                print ('parametro de destino es incorrecto')    \n",
    "        elif (origen == 'kelvin'):\n",
    "            if (destino == 'kelvin'):\n",
    "                valor_destino = valor\n",
    "            if ( destino == 'farenheith'):\n",
    "                valor_destino = ((valor - 273.15) * 9 / 5) + 32\n",
    "            if (destino == 'celsius'):\n",
    "                valor_destino = (valor - 273.15)\n",
    "            else:\n",
    "                print ('parametro de destino incorrecto')\n",
    "        else:\n",
    "            print ('parametro de origen incorrecto')\n",
    "        return valor_destino\n",
    "\n",
    "\n",
    "\n",
    "    def Func_Num_Mas_Repite (self, Lis_A_Evaluar, Valor_Menor):\n",
    "    \n",
    "        Lis_Num_Unicos = []\n",
    "        Lis_Num_Repetidos = []\n",
    "        \n",
    "        if len(Lis_A_Evaluar) == 0:\n",
    "            return None\n",
    "\n",
    "        if (Valor_Menor):\n",
    "            Lis_A_Evaluar.sort()\n",
    "        \n",
    "        else:\n",
    "            Lis_A_Evaluar.sort(reverse = True)\n",
    "        \n",
    "        for Num_A_Evaluar in Lis_A_Evaluar: \n",
    "            if Num_A_Evaluar in Lis_Num_Unicos: \n",
    "                i = Lis_Num_Unicos.index(Num_A_Evaluar) \n",
    "                Lis_Num_Repetidos [i] += 1 \n",
    "            else:\n",
    "                Lis_Num_Unicos.append (Num_A_Evaluar) \n",
    "                Lis_Num_Repetidos.append(1) \n",
    "\n",
    "        moda = Lis_Num_Unicos [0] \n",
    "        maximo = Lis_Num_Repetidos [0]\n",
    "\n",
    "        for i, Num_A_Evaluar in enumerate(Lis_Num_Unicos): \n",
    "            if Lis_Num_Repetidos[i] > maximo: \n",
    "                \n",
    "                moda = Lis_Num_Unicos[i]\n",
    "                maximo = Lis_Num_Repetidos[i]\n",
    "        \n",
    "        return moda, maximo"
   ]
  },
  {
   "cell_type": "code",
   "execution_count": 182,
   "metadata": {},
   "outputs": [],
   "source": [
    "h = Herramientas()"
   ]
  },
  {
   "cell_type": "code",
   "execution_count": 183,
   "metadata": {},
   "outputs": [
    {
     "data": {
      "text/plain": [
       "False"
      ]
     },
     "execution_count": 183,
     "metadata": {},
     "output_type": "execute_result"
    }
   ],
   "source": [
    "                        # 6) Probar las funciones incorporadas en la clase del punto 5\n",
    "h.validar_primo(9)"
   ]
  },
  {
   "cell_type": "code",
   "execution_count": 184,
   "metadata": {},
   "outputs": [
    {
     "name": "stdout",
     "output_type": "stream",
     "text": [
      "El valor es  8 y se repite:  2 veces\n"
     ]
    }
   ],
   "source": [
    "listanumeros = [1,8,2,5,4,8,10,7]\n",
    "moda, repite = h.Func_Num_Mas_Repite(listanumeros, True)\n",
    "print ('El valor es ', moda, 'y se repite: ', repite, 'veces')\n"
   ]
  },
  {
   "cell_type": "code",
   "execution_count": null,
   "metadata": {},
   "outputs": [],
   "source": [
    "h.convertir_grados(29, 'celcius', 'farenheith')"
   ]
  },
  {
   "cell_type": "code",
   "execution_count": 190,
   "metadata": {},
   "outputs": [
    {
     "data": {
      "text/plain": [
       "93326215443944152681699238856266700490715968264381621468592963895217599993229915608941463976156518286253697920827223758251185210916864000000000000000000000000"
      ]
     },
     "execution_count": 190,
     "metadata": {},
     "output_type": "execute_result"
    }
   ],
   "source": [
    "h.factorial(100)"
   ]
  },
  {
   "cell_type": "code",
   "execution_count": 29,
   "metadata": {},
   "outputs": [],
   "source": [
    "                        # 7) Es necesario que la clase creada en el punto 5 contenga una lista, sobre la cual se apliquen las funciones incorporadas\n",
    "class Herramientas:\n",
    "    def __init__(self, lista_numeros):\n",
    "        self.lista = lista_numeros\n",
    "\n",
    "    def __factorial (self, numero):\n",
    "        if (type(numero) != int):\n",
    "            return 'El dato debe ser un entero'\n",
    "        elif (numero < 0):\n",
    "            return 'El numero debe ser positivo'\n",
    "        elif (numero == 0):\n",
    "            return 1\n",
    "        elif (numero > 1):\n",
    "            numero = numero * self.__factorial (numero - 1)\n",
    "        return numero\n",
    "  \n",
    "    def factorial (self):\n",
    "        for i in self.lista:\n",
    "            print ('El factorial de ', i, 'es: ', self.__factorial(i))\n",
    "\n",
    "    \n",
    "    \n",
    "    def validar_primo (self):\n",
    "        for i in self.lista:\n",
    "            if (self.__validar_primo(i)):\n",
    "                print('El numero almacenado en ', i, 'si es un numero primo')\n",
    "            else:\n",
    "                print('El numero almacenado en ', i, 'no es un numero primo')\n",
    "        \n",
    "    def __validar_primo (self, numero):\n",
    "        primo = True\n",
    "        for i in range (2, numero):\n",
    "            if numero % i == 0:\n",
    "                primo = False\n",
    "                break\n",
    "        return primo\n",
    "\n",
    "    \n",
    "\n",
    "    def convertir_grados(self, origen, destino):\n",
    "        for i in self.lista:\n",
    "            print(i, 'grados', origen, 'son', self.__convertir_grados(i, origen, destino), 'grados', destino)\n",
    "\n",
    "    \n",
    "    def __convertir_grados (self, valor, origen, destino):\n",
    "        if (origen == 'celsius'):\n",
    "            if (destino == 'celsius'):\n",
    "                valor_destino = valor\n",
    "            elif (destino == 'farenheith'):\n",
    "                valor_destino = (valor * 9/5) + 32\n",
    "            elif (destino == 'kelvin'):\n",
    "                valor_destino = valor + 273.15\n",
    "            else:\n",
    "                print ('paramero de destino es incorrecto')\n",
    "        elif (origen == 'farenheith'):\n",
    "            if (destino == 'farenheith'):\n",
    "                valor_destino = valor\n",
    "            elif (destino == 'celsius'):\n",
    "                valor_destino = (valor - 32) * 5/9\n",
    "            elif (destino == 'kelvin'):\n",
    "                valor_destino = ((valor - 32) * 5 / 9) + 273.15\n",
    "            else:\n",
    "                print ('parametro de destino es incorrecto')    \n",
    "        elif (origen == 'kelvin'):\n",
    "            if (destino == 'kelvin'):\n",
    "                valor_destino = valor\n",
    "            if ( destino == 'farenheith'):\n",
    "                valor_destino = ((valor - 273.15) * 9 / 5) + 32\n",
    "            if (destino == 'celsius'):\n",
    "                valor_destino = (valor - 273.15)\n",
    "            else:\n",
    "                print ('parametro de destino incorrecto')\n",
    "        else:\n",
    "            print ('parametro de origen incorrecto')\n",
    "        return valor_destino\n",
    "\n",
    "\n",
    "    def Func_Num_Mas_Repite (self):\n",
    "    \n",
    "        Lis_Num_Unicos = []\n",
    "        Lis_Num_Repetidos = []\n",
    "        \n",
    "        if len(self.lista) == 0:\n",
    "            return None     \n",
    "               \n",
    "        for Num_A_Evaluar in self.lista: \n",
    "            if Num_A_Evaluar in Lis_Num_Unicos: \n",
    "                i = Lis_Num_Unicos.index(Num_A_Evaluar) \n",
    "                Lis_Num_Repetidos [i] += 1 \n",
    "            else:\n",
    "                Lis_Num_Unicos.append (Num_A_Evaluar) \n",
    "                Lis_Num_Repetidos.append(1) \n",
    "\n",
    "        moda = Lis_Num_Unicos [0] \n",
    "        maximo = Lis_Num_Repetidos [0]\n",
    "\n",
    "        for i, Num_A_Evaluar in enumerate(Lis_Num_Unicos): \n",
    "            if Lis_Num_Repetidos[i] > maximo: \n",
    "                \n",
    "                moda = Lis_Num_Unicos[i]\n",
    "                maximo = Lis_Num_Repetidos[i]\n",
    "        \n",
    "        return moda, maximo"
   ]
  },
  {
   "cell_type": "code",
   "execution_count": 30,
   "metadata": {},
   "outputs": [],
   "source": [
    "h = Herramientas ([1,1,2,5,8,8,9,11,15,16,16,16,18,20])"
   ]
  },
  {
   "cell_type": "code",
   "execution_count": 31,
   "metadata": {},
   "outputs": [
    {
     "name": "stdout",
     "output_type": "stream",
     "text": [
      "1 grados celsius son 33.8 grados farenheith\n",
      "1 grados celsius son 33.8 grados farenheith\n",
      "2 grados celsius son 35.6 grados farenheith\n",
      "5 grados celsius son 41.0 grados farenheith\n",
      "8 grados celsius son 46.4 grados farenheith\n",
      "8 grados celsius son 46.4 grados farenheith\n",
      "9 grados celsius son 48.2 grados farenheith\n",
      "11 grados celsius son 51.8 grados farenheith\n",
      "15 grados celsius son 59.0 grados farenheith\n",
      "16 grados celsius son 60.8 grados farenheith\n",
      "16 grados celsius son 60.8 grados farenheith\n",
      "16 grados celsius son 60.8 grados farenheith\n",
      "18 grados celsius son 64.4 grados farenheith\n",
      "20 grados celsius son 68.0 grados farenheith\n"
     ]
    }
   ],
   "source": [
    "h.convertir_grados('celsius', 'farenheith')"
   ]
  },
  {
   "cell_type": "code",
   "execution_count": 32,
   "metadata": {},
   "outputs": [
    {
     "name": "stdout",
     "output_type": "stream",
     "text": [
      "El numero almacenado en  1 si es un numero primo\n",
      "El numero almacenado en  1 si es un numero primo\n",
      "El numero almacenado en  2 si es un numero primo\n",
      "El numero almacenado en  5 si es un numero primo\n",
      "El numero almacenado en  8 no es un numero primo\n",
      "El numero almacenado en  8 no es un numero primo\n",
      "El numero almacenado en  9 no es un numero primo\n",
      "El numero almacenado en  11 si es un numero primo\n",
      "El numero almacenado en  15 no es un numero primo\n",
      "El numero almacenado en  16 no es un numero primo\n",
      "El numero almacenado en  16 no es un numero primo\n",
      "El numero almacenado en  16 no es un numero primo\n",
      "El numero almacenado en  18 no es un numero primo\n",
      "El numero almacenado en  20 no es un numero primo\n"
     ]
    }
   ],
   "source": [
    "h.validar_primo()"
   ]
  },
  {
   "cell_type": "code",
   "execution_count": 33,
   "metadata": {},
   "outputs": [
    {
     "name": "stdout",
     "output_type": "stream",
     "text": [
      "El factorial de  1 es:  1\n",
      "El factorial de  1 es:  1\n",
      "El factorial de  2 es:  2\n",
      "El factorial de  5 es:  120\n",
      "El factorial de  8 es:  40320\n",
      "El factorial de  8 es:  40320\n",
      "El factorial de  9 es:  362880\n",
      "El factorial de  11 es:  39916800\n",
      "El factorial de  15 es:  1307674368000\n",
      "El factorial de  16 es:  20922789888000\n",
      "El factorial de  16 es:  20922789888000\n",
      "El factorial de  16 es:  20922789888000\n",
      "El factorial de  18 es:  6402373705728000\n",
      "El factorial de  20 es:  2432902008176640000\n"
     ]
    }
   ],
   "source": [
    "h.factorial()"
   ]
  },
  {
   "cell_type": "code",
   "execution_count": 34,
   "metadata": {},
   "outputs": [
    {
     "name": "stdout",
     "output_type": "stream",
     "text": [
      "El valor  16 Se repite  3\n"
     ]
    }
   ],
   "source": [
    "moda, repe = h.Func_Num_Mas_Repite()\n",
    "print ('El valor ', moda, 'Se repite ', repe)"
   ]
  },
  {
   "cell_type": "code",
   "execution_count": 54,
   "metadata": {},
   "outputs": [],
   "source": [
    "from herramientas import *"
   ]
  },
  {
   "cell_type": "code",
   "execution_count": 55,
   "metadata": {},
   "outputs": [],
   "source": [
    "import herramientas_2 as h"
   ]
  },
  {
   "cell_type": "code",
   "execution_count": 60,
   "metadata": {},
   "outputs": [
    {
     "name": "stdout",
     "output_type": "stream",
     "text": [
      "1 grados celsius son 33.8 grados farenheith\n",
      "2 grados celsius son 35.6 grados farenheith\n",
      "3 grados celsius son 37.4 grados farenheith\n"
     ]
    }
   ],
   "source": [
    "h.convertir_grados('celsius', 'farenheith')"
   ]
  },
  {
   "cell_type": "code",
   "execution_count": 61,
   "metadata": {},
   "outputs": [
    {
     "name": "stdout",
     "output_type": "stream",
     "text": [
      "El numero almacenado en  1 si es un numero primo\n",
      "El numero almacenado en  2 si es un numero primo\n",
      "El numero almacenado en  3 si es un numero primo\n"
     ]
    }
   ],
   "source": [
    "h.validar_primo()"
   ]
  },
  {
   "cell_type": "code",
   "execution_count": 84,
   "metadata": {},
   "outputs": [
    {
     "name": "stdout",
     "output_type": "stream",
     "text": [
      "El factorial de  1 es:  1\n",
      "El factorial de  2 es:  2\n",
      "El factorial de  3 es:  6\n"
     ]
    }
   ],
   "source": [
    "h.factorial()"
   ]
  },
  {
   "cell_type": "code",
   "execution_count": 85,
   "metadata": {},
   "outputs": [
    {
     "data": {
      "text/plain": [
       "(1, 1)"
      ]
     },
     "execution_count": 85,
     "metadata": {},
     "output_type": "execute_result"
    }
   ],
   "source": [
    "h.Func_Num_Mas_Repite()"
   ]
  },
  {
   "cell_type": "code",
   "execution_count": 91,
   "metadata": {},
   "outputs": [
    {
     "data": {
      "text/plain": [
       "herramientas_2.Herramientas"
      ]
     },
     "execution_count": 91,
     "metadata": {},
     "output_type": "execute_result"
    }
   ],
   "source": [
    "herramientas_2.Herramientas"
   ]
  },
  {
   "cell_type": "code",
   "execution_count": 96,
   "metadata": {},
   "outputs": [],
   "source": [
    "h = herramientas_2.Herramientas([1,2,3,4,1,581,0,4])"
   ]
  },
  {
   "cell_type": "code",
   "execution_count": 97,
   "metadata": {},
   "outputs": [
    {
     "name": "stdout",
     "output_type": "stream",
     "text": [
      "El numero almacenado en  1 si es un numero primo\n",
      "El numero almacenado en  2 si es un numero primo\n",
      "El numero almacenado en  3 si es un numero primo\n",
      "El numero almacenado en  4 no es un numero primo\n",
      "El numero almacenado en  1 si es un numero primo\n",
      "El numero almacenado en  581 no es un numero primo\n",
      "El numero almacenado en  0 si es un numero primo\n",
      "El numero almacenado en  4 no es un numero primo\n"
     ]
    }
   ],
   "source": [
    "h.validar_primo()"
   ]
  },
  {
   "cell_type": "code",
   "execution_count": 98,
   "metadata": {},
   "outputs": [
    {
     "data": {
      "text/plain": [
       "(1, 2)"
      ]
     },
     "execution_count": 98,
     "metadata": {},
     "output_type": "execute_result"
    }
   ],
   "source": [
    "h.Func_Num_Mas_Repite()"
   ]
  },
  {
   "cell_type": "code",
   "execution_count": 99,
   "metadata": {},
   "outputs": [
    {
     "name": "stdout",
     "output_type": "stream",
     "text": [
      "El factorial de  1 es:  1\n",
      "El factorial de  2 es:  2\n",
      "El factorial de  3 es:  6\n",
      "El factorial de  4 es:  24\n",
      "El factorial de  1 es:  1\n",
      "El factorial de  581 es:  276999652728658908385262359581445173880193317626051182769254303861635347710654473601886991507188780082015433205106423379259432925257015287959481999704911431255948865964605123474475111648771964779685119870667596678635821951006389540806607290594072159719040508431024908120530271299660080915150310467045360104862687094645026912908673848734859145960244715075606934256831770219396421708590145414238839545652868708292550559969156950585524040843551257388782334999982189903111812872230844853616399711825017741066649633098674210436387094148081535796347494488742210151607807630035279920475920090446876789548571147134912023169131262141152409821911058145428090617284524030438484811067033469958241517970761894044443977793317952233132087523879941180206928819824318444805850849794469646263751983677653988218371571646304745785647695827102363283659341653809589386526967382260325818514805455197496365846693556252916916374615519031801781694495954928422082047407449344496737590442311461265129624203568834695644736752661714290778312654006270155917322436779473562599649678513856023600392255030847538580991653939759876273881695729560017613976089316609351436102229552271060719701842292944199320425778421589399493940351517526101612245811200000000000000000000000000000000000000000000000000000000000000000000000000000000000000000000000000000000000000000000000000000000000000000000000\n",
      "El factorial de  0 es:  1\n",
      "El factorial de  4 es:  24\n"
     ]
    }
   ],
   "source": [
    "h.factorial()"
   ]
  },
  {
   "cell_type": "code",
   "execution_count": 100,
   "metadata": {},
   "outputs": [
    {
     "name": "stdout",
     "output_type": "stream",
     "text": [
      "1 grados celsius son 33.8 grados farenheith\n",
      "2 grados celsius son 35.6 grados farenheith\n",
      "3 grados celsius son 37.4 grados farenheith\n",
      "4 grados celsius son 39.2 grados farenheith\n",
      "1 grados celsius son 33.8 grados farenheith\n",
      "581 grados celsius son 1077.8 grados farenheith\n",
      "0 grados celsius son 32.0 grados farenheith\n",
      "4 grados celsius son 39.2 grados farenheith\n"
     ]
    }
   ],
   "source": [
    "h.convertir_grados('celsius', 'farenheith')"
   ]
  }
 ],
 "metadata": {
  "kernelspec": {
   "display_name": "Python 3",
   "language": "python",
   "name": "python3"
  },
  "language_info": {
   "codemirror_mode": {
    "name": "ipython",
    "version": 3
   },
   "file_extension": ".py",
   "mimetype": "text/x-python",
   "name": "python",
   "nbconvert_exporter": "python",
   "pygments_lexer": "ipython3",
   "version": "3.11.1 (tags/v3.11.1:a7a450f, Dec  6 2022, 19:58:39) [MSC v.1934 64 bit (AMD64)]"
  },
  "orig_nbformat": 4,
  "vscode": {
   "interpreter": {
    "hash": "9da6cc33780894ff2185a164a2a119d335f9d52f75fdaf747e4ff3d3ca36c7c1"
   }
  }
 },
 "nbformat": 4,
 "nbformat_minor": 2
}
